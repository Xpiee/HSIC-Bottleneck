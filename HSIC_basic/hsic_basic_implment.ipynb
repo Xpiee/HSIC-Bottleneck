{
 "cells": [
  {
   "cell_type": "code",
   "execution_count": 1,
   "metadata": {},
   "outputs": [
    {
     "name": "stderr",
     "output_type": "stream",
     "text": [
      "c:\\Users\\Anubhav\\anaconda3\\envs\\mytorch112\\lib\\site-packages\\tqdm\\auto.py:22: TqdmWarning: IProgress not found. Please update jupyter and ipywidgets. See https://ipywidgets.readthedocs.io/en/stable/user_install.html\n",
      "  from .autonotebook import tqdm as notebook_tqdm\n"
     ]
    },
    {
     "data": {
      "text/plain": [
       "True"
      ]
     },
     "execution_count": 1,
     "metadata": {},
     "output_type": "execute_result"
    }
   ],
   "source": [
    "import torch\n",
    "import numpy as np\n",
    "torch.cuda.is_available()"
   ]
  },
  {
   "cell_type": "code",
   "execution_count": 2,
   "metadata": {},
   "outputs": [
    {
     "name": "stdout",
     "output_type": "stream",
     "text": [
      "3.8.0 (default, Nov  6 2019, 16:00:02) [MSC v.1916 64 bit (AMD64)]\n"
     ]
    }
   ],
   "source": [
    "import sys\n",
    "print(sys.version)"
   ]
  },
  {
   "cell_type": "code",
   "execution_count": 3,
   "metadata": {},
   "outputs": [],
   "source": [
    "import torch.nn.functional as F\n",
    "import torch.nn as nn\n",
    "import torch.optim as optim\n",
    "import torchvision.transforms as transforms\n",
    "import matplotlib.pyplot as plt\n",
    "import datetime\n",
    "import os\n",
    "import torchvision\n",
    "import time\n",
    "import copy\n",
    "# from torch.utils.tensorboard import SummaryWriter\n",
    "\n",
    "# from torchsummary import summary\n",
    "\n",
    "from tqdm import tqdm"
   ]
  },
  {
   "cell_type": "code",
   "execution_count": 4,
   "metadata": {},
   "outputs": [
    {
     "data": {
      "text/plain": [
       "'1.12.1+cu116'"
      ]
     },
     "execution_count": 4,
     "metadata": {},
     "output_type": "execute_result"
    }
   ],
   "source": [
    "torch.__version__"
   ]
  },
  {
   "cell_type": "code",
   "execution_count": 5,
   "metadata": {},
   "outputs": [],
   "source": [
    "# misc functions (https://github.com/choasma/HSIC-bottleneck/blob/master/source/hsicbt/utils/misc.py)\n",
    "\n",
    "def to_categorical(y, num_classes):\n",
    "    \"\"\" 1-hot encodes a tensor \"\"\"\n",
    "    return torch.squeeze(torch.eye(num_classes)[y])\n",
    "\n",
    "def get_layer_parameters(model, idx_range):\n",
    "\n",
    "    param_out = []\n",
    "    param_out_name = []\n",
    "    for it, (name, param) in enumerate(model.named_parameters()):\n",
    "        if it in idx_range:\n",
    "            param_out.append(param)\n",
    "            param_out_name.append(name)\n",
    "\n",
    "    return param_out, param_out_name\n",
    "\n",
    "# https://github.com/choasma/HSIC-bottleneck/blob/master/source/hsicbt/utils/meter.py\n",
    "class AverageMeter(object):\n",
    "    \"\"\"Basic meter\"\"\"\n",
    "    def __init__(self):\n",
    "        self.reset()\n",
    "\n",
    "    def reset(self):\n",
    "        \"\"\" reset meter\n",
    "        \"\"\"\n",
    "        self.val = 0\n",
    "        self.avg = 0\n",
    "        self.sum = 0\n",
    "        self.count = 0\n",
    "\n",
    "    def update(self, val, n=1):\n",
    "        \"\"\" incremental meter\n",
    "        \"\"\"\n",
    "        self.val = val\n",
    "        self.sum += val * n\n",
    "        self.count += n\n",
    "        self.avg = self.sum / self.count\n",
    "\n",
    "\n",
    "def get_accuracy_hsic(model, dataloader):\n",
    "    \"\"\" Computes the precision@k for the specified values of k\n",
    "        https://github.com/pytorch/examples/blob/master/imagenet/main.py\n",
    "    \"\"\"\n",
    "    output_list = []\n",
    "    target_list = []\n",
    "    for batch_idx, (data, target) in enumerate(dataloader):\n",
    "        output, hiddens = model(data.to(next(model.parameters()).device))\n",
    "        output = output.cpu().detach().numpy()\n",
    "        target = target.cpu().detach().numpy().reshape(-1,1)\n",
    "        output_list.append(output)\n",
    "        target_list.append(target)\n",
    "    output_arr = np.vstack(output_list)\n",
    "    target_arr = np.vstack(target_list)\n",
    "    avg_acc = 0\n",
    "    reorder_list = []\n",
    "    for i in range(10):\n",
    "        indices = np.where(target_arr==i)[0]\n",
    "        select_item = output_arr[indices]\n",
    "        out = np.array([np.argmax(vec) for vec in select_item])\n",
    "        y = np.mean(select_item, axis=0)\n",
    "        while np.argmax(y) in reorder_list:\n",
    "            y[np.argmax(y)] = 0\n",
    "        reorder_list.append(np.argmax(y))\n",
    "        num_correct = np.where(out==np.argmax(y))[0]\n",
    "        accuracy = float(num_correct.shape[0])/float(out.shape[0])\n",
    "        avg_acc += accuracy\n",
    "    avg_acc /= 10.\n",
    "\n",
    "    return avg_acc*100., reorder_list\n",
    "\n",
    "\n",
    "def get_accuracy(output, target, topk=(1,)):\n",
    "    \"\"\" Computes the precision@k for the specified values of k\n",
    "        https://github.com/pytorch/examples/blob/master/imagenet/main.py\n",
    "    \"\"\"\n",
    "    maxk = max(topk)\n",
    "    batch_size = target.size(0)\n",
    "    _, pred = output.topk(maxk, 1, True, True)\n",
    "    pred = pred.t()\n",
    "    correct = pred.eq(target.view(1, -1).expand_as(pred))\n",
    "    res = []\n",
    "    for k in topk:\n",
    "        correct_k = correct[:k].reshape(-1).float().sum(0)\n",
    "        res.append(correct_k.mul_(100.0 / batch_size))\n",
    "    return res\n",
    "\n",
    "def get_accuracy_epoch(model, dataloader):\n",
    "    \"\"\" Computes the precision@k for the specified values of k\n",
    "        https://github.com/pytorch/examples/blob/master/imagenet/main.py\n",
    "    \"\"\"\n",
    "    output_list = []\n",
    "    target_list = []\n",
    "    acc = []\n",
    "    loss = []\n",
    "    cross_entropy_loss = torch.nn.CrossEntropyLoss()\n",
    "    model = model.to('cuda')\n",
    "    device = next(model.parameters()).device\n",
    "\n",
    "    for batch_idx, (data, target) in enumerate(dataloader):\n",
    "        data = data.to(device)\n",
    "        target = target.to(device)\n",
    "        output, hiddens = model(data)\n",
    "        loss.append(cross_entropy_loss(output, target).cpu().detach().numpy())\n",
    "        acc.append(get_accuracy(output, target)[0].cpu().detach().numpy())\n",
    "    return np.mean(acc), np.mean(loss)\n"
   ]
  },
  {
   "cell_type": "code",
   "execution_count": 6,
   "metadata": {},
   "outputs": [],
   "source": [
    "# Implement Gausian kernel function to calculate K_X and K_y\n",
    "# gausian kernel, k(x, y) ~ exp(-(1/2)*||x - y||^2/sigma**2 )\n",
    "\n",
    "def distmat(X):\n",
    "    \"\"\" distance matrix\n",
    "        Euclidean Distance Matrix (EDM)\n",
    "        D = abs(a^2 + b^2 - 2a.b_T)\n",
    "    \"\"\"\n",
    "    r = torch.sum(X*X, 1)\n",
    "    r = r.view([-1, 1])\n",
    "    a = torch.mm(X, torch.transpose(X,0,1))\n",
    "    D = r.expand_as(a) - 2*a +  torch.transpose(r,0,1).expand_as(a)\n",
    "    D = torch.abs(D)\n",
    "\n",
    "    return D\n",
    "\n",
    "def kernelmat(X, sigma):\n",
    "    \"\"\"\n",
    "    Kernel function\n",
    "\n",
    "    m: training batch size\n",
    "    H: centering matrix:: I_m - (1/m)*1_m.1_m\n",
    "    gausian kernel: k(x, y) ~ exp(-(1/2)*||x - y||^2/sigma**2)\n",
    "    \"\"\"\n",
    "    m = int(X.size()[0]) # batch size\n",
    "    H = torch.eye(m) - (1./m) * torch.ones([m,m])\n",
    "\n",
    "    Dxx = distmat(X)\n",
    "\n",
    "    variance = 2.*sigma*sigma*X.size()[1]            \n",
    "    Kx = torch.exp(-Dxx / variance).type(torch.FloatTensor)   # kernel\n",
    "    Kxc = torch.mm(Kx, H) # kernel function centered with H\n",
    "\n",
    "    return Kxc\n",
    "\n",
    "\n",
    "def hsic_base(x, y, sigma=None, use_cuda=True):\n",
    "    \"\"\"\n",
    "    Implement equation 3 in the paper\n",
    "    HSIC: (m - 1)^-2 . trace(Kx H Ky H)\n",
    "    \"\"\"\n",
    "    m = int(x.size()[0]) # batch size\n",
    "\n",
    "    KxH = kernelmat(x, sigma=sigma)\n",
    "    KyH = kernelmat(y, sigma=sigma)\n",
    "\n",
    "    return torch.trace(KxH @ KyH)/(m - 1)**2\n",
    "\n",
    "# taken from HSIC implementation \n",
    "# https://github.com/choasma/HSIC-bottleneck/blob/9f1fe2447592d61c0ba524aad0ff0820ae2ba9cb/source/hsicbt/core/train_misc.py#L26\n",
    "# def hsic_objective(hidden, h_target, h_data, sigma):\n",
    "\n",
    "#     hsic_hy_val = hsic_base( hidden, h_target, sigma=sigma)\n",
    "#     hsic_hx_val = hsic_base( hidden, h_data,   sigma=sigma)\n",
    "\n",
    "#     return hsic_hx_val, hsic_hy_val\n",
    "\n",
    "def hsic_loss_obj(hidden, h_target, h_data, sigma):\n",
    "    \"\"\"\n",
    "    calculate hsic between input (X) and hidden layer weights\n",
    "    calculate hsic between hidden layer weights and target (Y)\n",
    "\n",
    "    return: hx, hy for calculating loss in training pipeline\n",
    "    \"\"\"\n",
    "    hsic_hx = hsic_base(hidden, h_data, sigma=sigma)\n",
    "    hsic_hy = hsic_base(hidden, h_target, sigma=sigma)\n",
    "\n",
    "    return hsic_hx, hsic_hy"
   ]
  },
  {
   "cell_type": "code",
   "execution_count": 7,
   "metadata": {},
   "outputs": [],
   "source": [
    "from torchvision.datasets import CIFAR10, MNIST\n",
    "from torch.utils.data import DataLoader"
   ]
  },
  {
   "cell_type": "code",
   "execution_count": 8,
   "metadata": {},
   "outputs": [
    {
     "name": "stdout",
     "output_type": "stream",
     "text": [
      "Files already downloaded and verified\n",
      "Files already downloaded and verified\n"
     ]
    }
   ],
   "source": [
    "# prepare data loader for CIFAR10 and MNIST\n",
    "\n",
    "train_transform = transforms.Compose([transforms.ToTensor()]) # , transforms.Resize(size=(227, 227))\n",
    "valid_transform = train_transform\n",
    "\n",
    "train_set = CIFAR10('./data/cifar10', train=True,\n",
    "                  download=True, transform=train_transform)\n",
    "valid_set = CIFAR10('./data/cifar10', train=False,\n",
    "                  download=True, transform=valid_transform)\n",
    "\n",
    "train_loader = torch.utils.data.DataLoader(train_set, batch_size=128, shuffle=True)\n",
    "val_loader = torch.utils.data.DataLoader(valid_set, batch_size=128, shuffle=False)"
   ]
  },
  {
   "cell_type": "code",
   "execution_count": 9,
   "metadata": {},
   "outputs": [],
   "source": [
    "# create primitive conv block with conv2d, bn, and activation.\n",
    "\n",
    "def get_activation(atype):\n",
    "\n",
    "    if atype=='relu':\n",
    "        nonlinear = nn.ReLU()\n",
    "    elif atype=='tanh':\n",
    "        nonlinear = nn.Tanh() \n",
    "    elif atype=='sigmoid':\n",
    "        nonlinear = nn.Sigmoid() \n",
    "    elif atype=='elu':\n",
    "        nonlinear = nn.ELU()\n",
    "\n",
    "    return nonlinear\n",
    "\n",
    "def makeblock_conv(in_chs, out_chs, atype, stride=1):\n",
    "\n",
    "    layer = nn.Conv2d(in_channels=in_chs, \n",
    "        out_channels=out_chs, kernel_size=5, stride=stride)\n",
    "    bn = nn.BatchNorm2d(out_chs, affine=False)\n",
    "    nonlinear = get_activation(atype)\n",
    "\n",
    "    return nn.Sequential(*[layer, bn, nonlinear])\n",
    "\n",
    "def makeblock_dense(in_dim, out_dim, atype):\n",
    "    \n",
    "    layer = nn.Linear(in_dim, out_dim)\n",
    "    bn = nn.BatchNorm1d(out_dim, affine=False)\n",
    "    nonlinear = get_activation(atype)\n",
    "    out = nn.Sequential(*[layer, bn, nonlinear])\n",
    "    \n",
    "    return out"
   ]
  },
  {
   "cell_type": "code",
   "execution_count": 38,
   "metadata": {},
   "outputs": [],
   "source": [
    "class ModelConv(nn.Module):\n",
    "\n",
    "    def __init__(self, in_width=784, hidden_width=64, n_layers=5, atype='relu', \n",
    "        last_hidden_width=None, data_code='cifar10', **kwargs):\n",
    "        super(ModelConv, self).__init__()\n",
    "    \n",
    "        block_list = []\n",
    "        is_conv = False\n",
    "\n",
    "        if data_code == 'cifar10':\n",
    "            in_ch = 3\n",
    "        elif data_code == 'mnist':\n",
    "            in_ch = 1\n",
    "\n",
    "        last_hw = hidden_width\n",
    "        if last_hidden_width:\n",
    "            last_hw = last_hidden_width\n",
    "        \n",
    "        for i in range(n_layers):\n",
    "            block = makeblock_conv(hidden_width, hidden_width, atype)\n",
    "            block_list.append(block)\n",
    "\n",
    "        self.input_layer    = makeblock_conv(in_ch, hidden_width, atype)\n",
    "        self.sequence_layer = nn.Sequential(*block_list)\n",
    "        if data_code == 'mnist':\n",
    "            dim = 2048\n",
    "        elif data_code == 'cifar10':\n",
    "            dim = 8192\n",
    "\n",
    "        self.output_layer = makeblock_dense(dim, last_hw, atype)\n",
    "\n",
    "        self.is_conv = is_conv\n",
    "        self.in_width = in_width\n",
    "\n",
    "    def forward(self, x):\n",
    "\n",
    "        output_list = []\n",
    "        \n",
    "        x = self.input_layer(x)\n",
    "        output_list.append(x)\n",
    "        \n",
    "        for block in self.sequence_layer:\n",
    "            x = block(x.clone())\n",
    "            output_list.append(x)\n",
    "            \n",
    "        x = x.view(-1, np.prod(x.size()[1:]))\n",
    "\n",
    "        # print(x.size())\n",
    "\n",
    "        x = self.output_layer(x)\n",
    "        output_list.append(x)\n",
    "\n",
    "        return x, output_list"
   ]
  },
  {
   "cell_type": "code",
   "execution_count": 11,
   "metadata": {},
   "outputs": [],
   "source": [
    "class ModelVanilla(nn.Module):\n",
    "\n",
    "    def __init__(self, hidden_width=64, last_hidden_width=None, **kwargs):\n",
    "        super(ModelVanilla, self).__init__()\n",
    "        last_dim = hidden_width\n",
    "        if last_hidden_width:\n",
    "        \tlast_dim = last_hidden_width\n",
    "            \n",
    "        self.output = nn.Linear(last_dim, 10)\n",
    "\n",
    "    def forward(self, x):\n",
    "        x = self.output(x)\n",
    "        return F.log_softmax(x, dim=1)\n"
   ]
  },
  {
   "cell_type": "code",
   "execution_count": 12,
   "metadata": {},
   "outputs": [],
   "source": [
    "class ModelEnsemble(nn.Module):\n",
    "\n",
    "    def __init__(self, hsic_model, vanilla_model):\n",
    "        super(ModelEnsemble, self).__init__()\n",
    "\n",
    "        self._hsic_model = hsic_model\n",
    "        self._vanilla_model = vanilla_model\n",
    "        \n",
    "    def forward(self, x):\n",
    "        \n",
    "        x, hiddens = self._hsic_model(x)\n",
    "        x = self._vanilla_model(x)\n",
    "        return x, hiddens"
   ]
  },
  {
   "cell_type": "code",
   "execution_count": 13,
   "metadata": {},
   "outputs": [],
   "source": [
    "def standard_train(cepoch, model, data_loader, optimizer, config_dict):\n",
    "\n",
    "    batch_acc    = AverageMeter()\n",
    "    batch_loss   = AverageMeter()\n",
    "    batch_hischx = AverageMeter()\n",
    "    batch_hischy = AverageMeter()\n",
    "\n",
    "    cross_entropy_loss = torch.nn.CrossEntropyLoss()\n",
    "    prec1 = total_loss = hx_l = hy_l = -1\n",
    "\n",
    "    batch_log = {}\n",
    "    batch_log['batch_acc'] = []\n",
    "    batch_log['batch_loss'] = []\n",
    "    batch_log['batch_hsic_hx'] = []\n",
    "    batch_log['batch_hsic_hy'] = []\n",
    "\n",
    "    model = model.to(config_dict['device'])\n",
    "\n",
    "    n_data = config_dict['batch_size'] * len(data_loader)\n",
    "    \n",
    "    pbar = tqdm(enumerate(data_loader), total=n_data/config_dict['batch_size'], ncols=150)\n",
    "\n",
    "    for batch_idx, (data, target) in pbar:\n",
    "\n",
    "        data   = data.to(config_dict['device'])\n",
    "        target = target.to(config_dict['device'])\n",
    "        output, hiddens = model(data)\n",
    "\n",
    "        h_target = target.view(-1,1)\n",
    "        h_target = to_categorical(h_target, num_classes=10).float()\n",
    "        \n",
    "        h_data = data.view(-1, np.prod(data.size()[1:]))\n",
    "\n",
    "        optimizer.zero_grad()\n",
    "        loss = cross_entropy_loss(output, target)\n",
    "        loss.backward()\n",
    "        optimizer.step()\n",
    "\n",
    "\n",
    "        loss = float(loss.detach().cpu().numpy())\n",
    "        prec1, prec5 = get_accuracy(output, target, topk=(1, 5)) \n",
    "        prec1 = float(prec1.cpu().numpy())\n",
    "    \n",
    "        batch_acc.update(prec1)   \n",
    "        batch_loss.update(loss)  \n",
    "        batch_hischx.update(hx_l)\n",
    "        batch_hischy.update(hy_l)\n",
    "\n",
    "        msg = 'Train Epoch: {cepoch} [ {cidx:5d}/{tolidx:5d} ({perc:2d}%)] Loss:{loss:.4f} Acc:{acc:.4f} hsic_xz:{hsic_zx:.4f} hsic_yz:{hsic_zy:.4f}'.format(\n",
    "                        cepoch = cepoch,  \n",
    "                        cidx = (batch_idx+1)*config_dict['batch_size'], \n",
    "                        tolidx = n_data,\n",
    "                        perc = int(100. * (batch_idx+1)*config_dict['batch_size']/n_data), \n",
    "                        loss = batch_loss.avg, \n",
    "                        acc  = batch_acc.avg,\n",
    "                        hsic_zx = batch_hischx.avg,\n",
    "                        hsic_zy = batch_hischy.avg,\n",
    "                    )\n",
    "\n",
    "        # # # preparation log information and print progress # # #\n",
    "        if ((batch_idx) % config_dict['log_batch_interval'] == 0): \n",
    "            batch_log['batch_acc'].append(batch_acc.val)\n",
    "            batch_log['batch_loss'].append(batch_loss.val)\n",
    "            batch_log['batch_hsic_hx'].append(batch_hischx.val)\n",
    "            batch_log['batch_hsic_hy'].append(batch_hischy.val)\n",
    "\n",
    "        pbar.set_description(msg)\n",
    "\n",
    "    return batch_log"
   ]
  },
  {
   "cell_type": "code",
   "execution_count": 14,
   "metadata": {},
   "outputs": [],
   "source": [
    "def hsic_train(cepoch, model, data_loader, config_dict):\n",
    "\n",
    "    # cross_entropy_loss = torch.nn.CrossEntropyLoss()\n",
    "    prec1 = total_loss = hx_l = hy_l = -1\n",
    "\n",
    "    batch_acc    = AverageMeter()\n",
    "    batch_loss   = AverageMeter()\n",
    "    batch_hischx = AverageMeter()\n",
    "    batch_hischy = AverageMeter()\n",
    "\n",
    "    batch_log = {}\n",
    "    batch_log['batch_acc'] = []\n",
    "    batch_log['batch_loss'] = []\n",
    "    batch_log['batch_hsic_hx'] = []\n",
    "    batch_log['batch_hsic_hy'] = []\n",
    "\n",
    "    model = model.to(config_dict['device'])\n",
    "\n",
    "    n_data = config_dict['batch_size'] * len(data_loader)\n",
    "\n",
    "    pbar = tqdm(enumerate(data_loader), total=n_data/config_dict['batch_size'], ncols=120)\n",
    "    for batch_idx, (data, target) in pbar:\n",
    "\n",
    "        data   = data.to(config_dict['device'])\n",
    "        target = target.to(config_dict['device'])\n",
    "        output, hiddens = model(data)\n",
    "\n",
    "        h_target = target.view(-1,1)\n",
    "        h_target = to_categorical(h_target, num_classes=10).float()\n",
    "        h_data = data.view(-1, np.prod(data.size()[1:]))\n",
    "\n",
    "        idx_range = []\n",
    "        it = 0\n",
    "\n",
    "        # So the batchnorm is not learnable, making only @,b at layer\n",
    "        for i in range(len(hiddens)):\n",
    "            idx_range.append(np.arange(it, it+2).tolist())\n",
    "            it += 2\n",
    "    \n",
    "        for i in range(len(hiddens)):\n",
    "            \n",
    "            output, hiddens = model(data)\n",
    "            params, param_names = get_layer_parameters(model=model, idx_range=idx_range[i]) # so we only optimize one layer at a time\n",
    "            optimizer = optim.SGD(params, lr = config_dict['learning_rate'], momentum=.9, weight_decay=0.001)\n",
    "            optimizer.zero_grad()\n",
    "            \n",
    "            if len(hiddens[i].size()) > 2:\n",
    "                hiddens[i] = hiddens[i].view(-1, np.prod(hiddens[i].size()[1:]))\n",
    "\n",
    "            hx_l, hy_l = hsic_loss_obj(\n",
    "                    hiddens[i],\n",
    "                    h_target=h_target.float(),\n",
    "                    h_data=h_data,\n",
    "                    sigma=config_dict['sigma'],\n",
    "            )\n",
    "            #print(torch.max(hiddens[i]).cpu().detach().numpy(), torch.min(hiddens[i]).cpu().detach().numpy(), torch.std(hiddens[i]).cpu().detach().numpy())\n",
    "            loss = (hx_l - config_dict['lambda_y']*hy_l)\n",
    "            if i == 0:\n",
    "                loss.backward()\n",
    "            else:\n",
    "                loss.backward()\n",
    "            optimizer.step()\n",
    "            # sigma_optimizer.step()\n",
    "        # if config_dict['hsic_solve']:\n",
    "        # prec1, reorder_list = get_accuracy_hsic(model, data_loader)\n",
    "        batch_acc.update(prec1)\n",
    "        batch_loss.update(total_loss)\n",
    "        batch_hischx.update(hx_l.cpu().detach().numpy())\n",
    "        batch_hischy.update(hy_l.cpu().detach().numpy())\n",
    "\n",
    "        # print('H_hx:{H_hx:.8f} H_hy:{H_hy:.8f}'.format(H_hx = hx_l, H_hy = hy_l))\n",
    "\n",
    "        # # # preparation log information and print progress # # #\n",
    "\n",
    "        msg = 'Train Epoch: {cepoch} [ {cidx:5d}/{tolidx:5d} ({perc:2d}%)] H_hx:{H_hx:.8f} H_hy:{H_hy:.8f}'.format(\n",
    "                        cepoch = cepoch,  \n",
    "                        cidx = (batch_idx+1)*config_dict['batch_size'], \n",
    "                        tolidx = n_data,\n",
    "                        perc = int(100. * (batch_idx+1)*config_dict['batch_size']/n_data), \n",
    "                        H_hx = batch_hischx.avg, \n",
    "                        H_hy = batch_hischy.avg,\n",
    "                )\n",
    "\n",
    "        if ((batch_idx+1) % config_dict['log_batch_interval'] == 0):\n",
    "\n",
    "            batch_log['batch_acc'].append(batch_acc.avg)\n",
    "            batch_log['batch_loss'].append(batch_loss.avg)\n",
    "            batch_log['batch_hsic_hx'].append(batch_hischx.avg)\n",
    "            batch_log['batch_hsic_hy'].append(batch_hischy.avg)\n",
    "\n",
    "        pbar.set_description(msg)\n",
    "\n",
    "    return batch_log, model"
   ]
  },
  {
   "cell_type": "code",
   "execution_count": 15,
   "metadata": {},
   "outputs": [],
   "source": [
    "# train_transform = transforms.Compose([transforms.ToTensor()]) # , transforms.Resize(size=(227, 227))\n",
    "# valid_transform = train_transform\n",
    "\n",
    "# train_set = MNIST('./data/mnist', train=True,\n",
    "#                   download=True, transform=train_transform)\n",
    "# valid_set = MNIST('./data/mnist', train=False,\n",
    "#                   download=True, transform=valid_transform)\n",
    "\n",
    "# train_loader = torch.utils.data.DataLoader(train_set, batch_size=128, shuffle=True)\n",
    "# val_loader = torch.utils.data.DataLoader(valid_set, batch_size=128, shuffle=False)"
   ]
  },
  {
   "cell_type": "code",
   "execution_count": 31,
   "metadata": {},
   "outputs": [],
   "source": [
    "def load_mnist(dataFolderPath='./data/mnist', train=True, download=True, batchSize=64):\n",
    "    \n",
    "    train_transform = transforms.Compose([transforms.ToTensor()]) # , transforms.Resize(size=(227, 227))\n",
    "    valid_transform = train_transform\n",
    "\n",
    "    train_set = MNIST(dataFolderPath, train=train,\n",
    "                  download=download, transform=train_transform)\n",
    "    valid_set = MNIST(dataFolderPath, train=False,\n",
    "                  download=True, transform=valid_transform)\n",
    "\n",
    "    train_loader = torch.utils.data.DataLoader(train_set, batch_size=batchSize, shuffle=True)\n",
    "    val_loader = torch.utils.data.DataLoader(valid_set, batch_size=batchSize, shuffle=False)    \n",
    "\n",
    "    return train_loader, val_loader\n",
    "\n",
    "\n",
    "def load_cifar10(dataFolderPath='./data/cifar10', train=True, download=True, batchSize=64):\n",
    "    \n",
    "    train_transform = transforms.Compose([transforms.ToTensor()]) # , transforms.Resize(size=(227, 227))\n",
    "    valid_transform = train_transform\n",
    "\n",
    "    train_set = CIFAR10(dataFolderPath, train=train,\n",
    "                  download=download, transform=train_transform)\n",
    "    valid_set = CIFAR10(dataFolderPath, train=False,\n",
    "                  download=True, transform=valid_transform)\n",
    "\n",
    "    train_loader = torch.utils.data.DataLoader(train_set, batch_size=batchSize, shuffle=True)\n",
    "    val_loader = torch.utils.data.DataLoader(valid_set, batch_size=batchSize, shuffle=False)    \n",
    "\n",
    "    return train_loader, val_loader\n",
    "\n",
    "def get_data(data_name, batch_size):\n",
    "\n",
    "    if data_name=='cifar10':\n",
    "        dataPath = './data/cifar10'\n",
    "        train_loader, test_loader=load_cifar10(dataPath, batchSize=batch_size)\n",
    "\n",
    "    elif data_name=='mnist':\n",
    "        dataPath = './data/mnist'\n",
    "        train_loader, test_loader=load_mnist(dataPath, batchSize=batch_size)\n",
    "\n",
    "    return train_loader, test_loader"
   ]
  },
  {
   "cell_type": "code",
   "execution_count": 17,
   "metadata": {},
   "outputs": [],
   "source": [
    "# config_dict = {}\n",
    "# config_dict['batch_size'] = 128\n",
    "# config_dict['learning_rate'] = 0.001\n",
    "# config_dict['lambda_y'] = 50.\n",
    "# config_dict['sigma'] = 2.\n",
    "# config_dict['task'] = 'hsic-train'\n",
    "# config_dict['device'] = 'cuda'\n",
    "# config_dict['log_batch_interval'] = 10\n",
    "\n",
    "# # # # data prepreation\n",
    "# # train_loader, test_loader = get_dataset_from_code('mnist', 128)\n",
    "\n",
    "# # # # simple fully-connected model\n",
    "# model = ModelConv(hidden_width=32,\n",
    "#                     n_layers=5,\n",
    "#                     atype='relu',\n",
    "#                     last_hidden_width=None,\n",
    "#                     data_code='mnist')\n",
    "\n",
    "# # # # start to train\n",
    "# epochs = 5\n",
    "# for cepoch in range(epochs):\n",
    "#     # you can also re-write hsic_train function\n",
    "#     batch_log, model = hsic_train(cepoch, model, train_loader, config_dict)\n",
    "#     # print(get_accuracy_epoch(model, train_loader))"
   ]
  },
  {
   "cell_type": "code",
   "execution_count": 18,
   "metadata": {},
   "outputs": [],
   "source": [
    "from color import print_emph, print_highlight\n",
    "from utils import model_save\n",
    "import datetime\n",
    "\n",
    "# TTYPE_STANDARD = 'backprop'\n",
    "TTYPE_HSICTRAIN = 'hsictrain'\n",
    "# TTYPE_FORMAT = 'format'\n",
    "# TTYPE_UNFORMAT = 'unformat'\n",
    "\n",
    "# 1. train the HSIC model with last hidden demensions != 10 and save the model.T_destination\n",
    "## 2. Create ensemble model with hsic model + linear model with softmax and train for 10 epochs\n",
    "## without backprop (only update last layer params by SGD optim.)\n",
    "\n",
    "def training_hsic(config_dict):\n",
    "\n",
    "    print_emph(\"HSIC-Bottleneck training\")\n",
    "\n",
    "    train_loader, test_loader = get_data(\n",
    "        config_dict['data_code'], config_dict['batch_size'])\n",
    "    #torch.manual_seed(config_dict['seed'])\n",
    "    # model = model_distribution(config_dict)\n",
    "\n",
    "    model = ModelConv(**config_dict)\n",
    "    nepoch = config_dict['epochs']\n",
    "    epoch_range = range(1, nepoch+1)\n",
    "\n",
    "    batch_log_list = []\n",
    "    epoch_log_dict = {}\n",
    "    epoch_log_dict['train_acc'] = []\n",
    "    epoch_log_dict['test_acc'] = []\n",
    "\n",
    "    time_stamp = datetime.datetime.now().strftime(\"%Y%m%d-%H%M%S\")\n",
    "    for cepoch in epoch_range:\n",
    "\n",
    "        log = hsic_train(cepoch, model, train_loader, config_dict)\n",
    "\n",
    "        batch_log_list.append(log)\n",
    "\n",
    "        # save with each indexed\n",
    "        main_path = 'X:/Data Files/Huawei/'\n",
    "        filename = os.path.join(main_path, config_dict['data_code'])\n",
    "        model_report, model_data = model_save.create_dirs(filename, time_stamp)\n",
    "\n",
    "        model_save_path = os.path.join(model_data, \"model---{:04d}.pt\".format(cepoch))\n",
    "        # model_save_path = \"{}---{:04d}.pt\".format(model_data, cepoch)\n",
    "        torch.save(model.state_dict(), model_save_path)\n",
    "\n",
    "        log_dict = {}\n",
    "        log_dict['batch_log_list'] = batch_log_list\n",
    "        log_dict['epoch_log_dict'] = epoch_log_dict\n",
    "        log_dict['config_dict'] = config_dict\n",
    "\n",
    "        model_report_path = os.path.join(model_report, \"log---{:04d}.npy\".format(cepoch))\n",
    "        # model_report_path = \"{}.npy\".format(model_report)\n",
    "        np.save(model_report_path, log_dict)\n",
    "\n",
    "    return batch_log_list, epoch_log_dict"
   ]
  },
  {
   "cell_type": "code",
   "execution_count": 19,
   "metadata": {},
   "outputs": [],
   "source": [
    "config_dict = {}\n",
    "config_dict['batch_size'] = 128\n",
    "config_dict['learning_rate'] = 0.001\n",
    "config_dict['n_layers'] = 5\n",
    "config_dict['hidden_width'] = 128\n",
    "config_dict['epochs'] = 15\n",
    "\n",
    "config_dict['seed'] = 1234\n",
    "config_dict['device'] = 'cuda'\n",
    "config_dict['atype'] = 'relu'\n",
    "config_dict['data_code'] = 'mnist'\n",
    "\n",
    "config_dict['lambda_y'] = 100.\n",
    "config_dict['sigma'] = 5.\n",
    "config_dict['task'] = 'hsic-train'\n",
    "config_dict['log_batch_interval'] = 10\n",
    "config_dict['ext'] = 'pdf'"
   ]
  },
  {
   "cell_type": "code",
   "execution_count": 22,
   "metadata": {},
   "outputs": [
    {
     "name": "stdout",
     "output_type": "stream",
     "text": [
      "\u001b[1;37;40m# # # # # # # # # # # # # # # # # # # #\n",
      "#     HSIC-Bottleneck training\n",
      "# # # # # # # # # # # # # # # # # # # #\u001b[0;0m\n"
     ]
    },
    {
     "name": "stderr",
     "output_type": "stream",
     "text": [
      "Train Epoch: 1 [ 60032/60032 (100%)] H_hx:0.00000046 H_hy:0.00000061: 100%|█████████| 469/469.0 [01:32<00:00,  5.09it/s]\n"
     ]
    },
    {
     "name": "stdout",
     "output_type": "stream",
     "text": [
      "Model files saved in:  X:/Data Files/Huawei/mnist\\exp_20221101-230528\n",
      "Model report files saved in :  X:/Data Files/Huawei/mnist\\exp_20221101-230528\\reports\n",
      "Model saved in :  X:/Data Files/Huawei/mnist\\exp_20221101-230528\\reports\\model\n"
     ]
    },
    {
     "name": "stderr",
     "output_type": "stream",
     "text": [
      "Train Epoch: 2 [ 60032/60032 (100%)] H_hx:0.00000046 H_hy:0.00000061: 100%|█████████| 469/469.0 [01:40<00:00,  4.68it/s]\n"
     ]
    },
    {
     "name": "stdout",
     "output_type": "stream",
     "text": [
      "Model files saved in:  X:/Data Files/Huawei/mnist\\exp_20221101-230528\n",
      "Model report files saved in :  X:/Data Files/Huawei/mnist\\exp_20221101-230528\\reports\n",
      "Model saved in :  X:/Data Files/Huawei/mnist\\exp_20221101-230528\\reports\\model\n"
     ]
    },
    {
     "name": "stderr",
     "output_type": "stream",
     "text": [
      "Train Epoch: 3 [ 60032/60032 (100%)] H_hx:0.00000046 H_hy:0.00000061: 100%|█████████| 469/469.0 [01:35<00:00,  4.90it/s]\n"
     ]
    },
    {
     "name": "stdout",
     "output_type": "stream",
     "text": [
      "Model files saved in:  X:/Data Files/Huawei/mnist\\exp_20221101-230528\n",
      "Model report files saved in :  X:/Data Files/Huawei/mnist\\exp_20221101-230528\\reports\n",
      "Model saved in :  X:/Data Files/Huawei/mnist\\exp_20221101-230528\\reports\\model\n"
     ]
    },
    {
     "name": "stderr",
     "output_type": "stream",
     "text": [
      "Train Epoch: 4 [ 60032/60032 (100%)] H_hx:0.00000046 H_hy:0.00000061: 100%|█████████| 469/469.0 [01:35<00:00,  4.92it/s]\n"
     ]
    },
    {
     "name": "stdout",
     "output_type": "stream",
     "text": [
      "Model files saved in:  X:/Data Files/Huawei/mnist\\exp_20221101-230528\n",
      "Model report files saved in :  X:/Data Files/Huawei/mnist\\exp_20221101-230528\\reports\n",
      "Model saved in :  X:/Data Files/Huawei/mnist\\exp_20221101-230528\\reports\\model\n"
     ]
    },
    {
     "name": "stderr",
     "output_type": "stream",
     "text": [
      "Train Epoch: 5 [ 60032/60032 (100%)] H_hx:0.00000046 H_hy:0.00000061: 100%|█████████| 469/469.0 [01:31<00:00,  5.11it/s]\n"
     ]
    },
    {
     "name": "stdout",
     "output_type": "stream",
     "text": [
      "Model files saved in:  X:/Data Files/Huawei/mnist\\exp_20221101-230528\n",
      "Model report files saved in :  X:/Data Files/Huawei/mnist\\exp_20221101-230528\\reports\n",
      "Model saved in :  X:/Data Files/Huawei/mnist\\exp_20221101-230528\\reports\\model\n"
     ]
    },
    {
     "name": "stderr",
     "output_type": "stream",
     "text": [
      "Train Epoch: 6 [ 60032/60032 (100%)] H_hx:0.00000046 H_hy:0.00000061: 100%|█████████| 469/469.0 [01:36<00:00,  4.87it/s]\n"
     ]
    },
    {
     "name": "stdout",
     "output_type": "stream",
     "text": [
      "Model files saved in:  X:/Data Files/Huawei/mnist\\exp_20221101-230528\n",
      "Model report files saved in :  X:/Data Files/Huawei/mnist\\exp_20221101-230528\\reports\n",
      "Model saved in :  X:/Data Files/Huawei/mnist\\exp_20221101-230528\\reports\\model\n"
     ]
    },
    {
     "name": "stderr",
     "output_type": "stream",
     "text": [
      "Train Epoch: 7 [ 60032/60032 (100%)] H_hx:0.00000046 H_hy:0.00000061: 100%|█████████| 469/469.0 [01:26<00:00,  5.39it/s]\n"
     ]
    },
    {
     "name": "stdout",
     "output_type": "stream",
     "text": [
      "Model files saved in:  X:/Data Files/Huawei/mnist\\exp_20221101-230528\n",
      "Model report files saved in :  X:/Data Files/Huawei/mnist\\exp_20221101-230528\\reports\n",
      "Model saved in :  X:/Data Files/Huawei/mnist\\exp_20221101-230528\\reports\\model\n"
     ]
    },
    {
     "name": "stderr",
     "output_type": "stream",
     "text": [
      "Train Epoch: 8 [ 60032/60032 (100%)] H_hx:0.00000046 H_hy:0.00000061: 100%|█████████| 469/469.0 [01:29<00:00,  5.21it/s]\n"
     ]
    },
    {
     "name": "stdout",
     "output_type": "stream",
     "text": [
      "Model files saved in:  X:/Data Files/Huawei/mnist\\exp_20221101-230528\n",
      "Model report files saved in :  X:/Data Files/Huawei/mnist\\exp_20221101-230528\\reports\n",
      "Model saved in :  X:/Data Files/Huawei/mnist\\exp_20221101-230528\\reports\\model\n"
     ]
    },
    {
     "name": "stderr",
     "output_type": "stream",
     "text": [
      "Train Epoch: 9 [ 60032/60032 (100%)] H_hx:0.00000046 H_hy:0.00000061: 100%|█████████| 469/469.0 [01:34<00:00,  4.99it/s]\n"
     ]
    },
    {
     "name": "stdout",
     "output_type": "stream",
     "text": [
      "Model files saved in:  X:/Data Files/Huawei/mnist\\exp_20221101-230528\n",
      "Model report files saved in :  X:/Data Files/Huawei/mnist\\exp_20221101-230528\\reports\n",
      "Model saved in :  X:/Data Files/Huawei/mnist\\exp_20221101-230528\\reports\\model\n"
     ]
    },
    {
     "name": "stderr",
     "output_type": "stream",
     "text": [
      "Train Epoch: 10 [ 60032/60032 (100%)] H_hx:0.00000046 H_hy:0.00000061: 100%|████████| 469/469.0 [01:29<00:00,  5.22it/s]\n"
     ]
    },
    {
     "name": "stdout",
     "output_type": "stream",
     "text": [
      "Model files saved in:  X:/Data Files/Huawei/mnist\\exp_20221101-230528\n",
      "Model report files saved in :  X:/Data Files/Huawei/mnist\\exp_20221101-230528\\reports\n",
      "Model saved in :  X:/Data Files/Huawei/mnist\\exp_20221101-230528\\reports\\model\n"
     ]
    },
    {
     "name": "stderr",
     "output_type": "stream",
     "text": [
      "Train Epoch: 11 [ 60032/60032 (100%)] H_hx:0.00000046 H_hy:0.00000061: 100%|████████| 469/469.0 [01:33<00:00,  5.00it/s]\n"
     ]
    },
    {
     "name": "stdout",
     "output_type": "stream",
     "text": [
      "Model files saved in:  X:/Data Files/Huawei/mnist\\exp_20221101-230528\n",
      "Model report files saved in :  X:/Data Files/Huawei/mnist\\exp_20221101-230528\\reports\n",
      "Model saved in :  X:/Data Files/Huawei/mnist\\exp_20221101-230528\\reports\\model\n"
     ]
    },
    {
     "name": "stderr",
     "output_type": "stream",
     "text": [
      "Train Epoch: 12 [ 60032/60032 (100%)] H_hx:0.00000046 H_hy:0.00000062: 100%|████████| 469/469.0 [01:37<00:00,  4.81it/s]\n"
     ]
    },
    {
     "name": "stdout",
     "output_type": "stream",
     "text": [
      "Model files saved in:  X:/Data Files/Huawei/mnist\\exp_20221101-230528\n",
      "Model report files saved in :  X:/Data Files/Huawei/mnist\\exp_20221101-230528\\reports\n",
      "Model saved in :  X:/Data Files/Huawei/mnist\\exp_20221101-230528\\reports\\model\n"
     ]
    },
    {
     "name": "stderr",
     "output_type": "stream",
     "text": [
      "Train Epoch: 13 [ 60032/60032 (100%)] H_hx:0.00000046 H_hy:0.00000062: 100%|████████| 469/469.0 [01:38<00:00,  4.75it/s]\n"
     ]
    },
    {
     "name": "stdout",
     "output_type": "stream",
     "text": [
      "Model files saved in:  X:/Data Files/Huawei/mnist\\exp_20221101-230528\n",
      "Model report files saved in :  X:/Data Files/Huawei/mnist\\exp_20221101-230528\\reports\n",
      "Model saved in :  X:/Data Files/Huawei/mnist\\exp_20221101-230528\\reports\\model\n"
     ]
    },
    {
     "name": "stderr",
     "output_type": "stream",
     "text": [
      "Train Epoch: 14 [ 60032/60032 (100%)] H_hx:0.00000046 H_hy:0.00000062: 100%|████████| 469/469.0 [01:39<00:00,  4.69it/s]\n"
     ]
    },
    {
     "name": "stdout",
     "output_type": "stream",
     "text": [
      "Model files saved in:  X:/Data Files/Huawei/mnist\\exp_20221101-230528\n",
      "Model report files saved in :  X:/Data Files/Huawei/mnist\\exp_20221101-230528\\reports\n",
      "Model saved in :  X:/Data Files/Huawei/mnist\\exp_20221101-230528\\reports\\model\n"
     ]
    },
    {
     "name": "stderr",
     "output_type": "stream",
     "text": [
      "Train Epoch: 15 [ 60032/60032 (100%)] H_hx:0.00000046 H_hy:0.00000062: 100%|████████| 469/469.0 [01:39<00:00,  4.71it/s]\n"
     ]
    },
    {
     "name": "stdout",
     "output_type": "stream",
     "text": [
      "Model files saved in:  X:/Data Files/Huawei/mnist\\exp_20221101-230528\n",
      "Model report files saved in :  X:/Data Files/Huawei/mnist\\exp_20221101-230528\\reports\n",
      "Model saved in :  X:/Data Files/Huawei/mnist\\exp_20221101-230528\\reports\\model\n"
     ]
    }
   ],
   "source": [
    "batch_log_list, epoch_log_dict = training_hsic(config_dict)"
   ]
  },
  {
   "cell_type": "code",
   "execution_count": 23,
   "metadata": {},
   "outputs": [],
   "source": [
    "def training_format(config_dict, model_load_path):\n",
    "\n",
    "    print_emph(\"Format training\")\n",
    "\n",
    "    train_loader, test_loader = get_data(\n",
    "        config_dict['data_code'], config_dict['batch_size'])\n",
    "    torch.manual_seed(config_dict['seed'])\n",
    "\n",
    "    vanilla_model = ModelVanilla(**config_dict) # Implement this - Done\n",
    "    torch.manual_seed(config_dict['seed'])\n",
    "\n",
    "    hsic_model = ModelConv(**config_dict)\n",
    "\n",
    "    optimizer = optim.SGD(filter(lambda p: p.requires_grad, vanilla_model.parameters()),\n",
    "            lr = config_dict['learning_rate'], weight_decay=0.001)\n",
    "\n",
    "    model = torch.load(model_load_path)\n",
    "\n",
    "    hsic_model.load_state_dict(model)\n",
    "    hsic_model.eval()\n",
    "\n",
    "    ensemble_model = ModelEnsemble(hsic_model, vanilla_model) ## Implement this - Done\n",
    "\n",
    "    batch_log_list = []\n",
    "    epoch_log_dict = {}\n",
    "    epoch_log_dict['train_acc'] = []\n",
    "    epoch_log_dict['train_loss'] = []\n",
    "    epoch_log_dict['test_acc'] = []\n",
    "    epoch_log_dict['test_loss'] = []\n",
    "\n",
    "    nepoch = config_dict['epochs']\n",
    "\n",
    "    # WIP: test acc for untrained net\n",
    "    test_acc, test_loss = get_accuracy_epoch(ensemble_model, test_loader)\n",
    "    epoch_log_dict['test_acc'].append(test_acc)\n",
    "    epoch_log_dict['test_loss'].append(test_loss)\n",
    "\n",
    "    train_acc, train_loss = get_accuracy_epoch(ensemble_model, train_loader)\n",
    "    epoch_log_dict['train_acc'].append(train_acc)\n",
    "    epoch_log_dict['train_loss'].append(train_loss)\n",
    "\n",
    "    time_stamp = datetime.datetime.now().strftime(\"%Y%m%d-%H%M%S\")\n",
    "    for cepoch in range(1, nepoch+1):\n",
    "        log = standard_train(cepoch, ensemble_model, train_loader, optimizer, config_dict)\n",
    "        batch_log_list.append(log)\n",
    "\n",
    "        train_acc, train_loss = get_accuracy_epoch(ensemble_model, train_loader)\n",
    "        epoch_log_dict['train_acc'].append(train_acc)\n",
    "        epoch_log_dict['train_loss'].append(train_loss)\n",
    "        test_acc, test_loss = get_accuracy_epoch(ensemble_model, test_loader)\n",
    "        epoch_log_dict['test_acc'].append(test_acc)\n",
    "        epoch_log_dict['test_loss'].append(test_loss)\n",
    "        print_highlight(\"Epoch - [{:04d}]: Training Acc: {:.2f}\".format(cepoch, train_acc), 'green')\n",
    "        print_highlight(\"Epoch - [{:04d}]: Testing  Acc: {:.2f}\".format(cepoch, test_acc), 'green')\n",
    "\n",
    "\n",
    "        # log_dict = {}\n",
    "        # log_dict['batch_log_list'] = batch_log_list\n",
    "        # log_dict['epoch_log_dict'] = epoch_log_dict\n",
    "        # log_dict['config_dict'] = config_dict\n",
    "\n",
    "        # save_logs(log_dict, get_log_filepath(\n",
    "        #     config_dict['task'], TTYPE_FORMAT, config_dict['data_code'], config_dict['exp_index']))\n",
    "\n",
    "\n",
    "        # save with each indexed\n",
    "        main_path = 'X:/Data Files/Huawei/'\n",
    "        filename = os.path.join(main_path, config_dict['data_code'])\n",
    "        model_report, model_data = model_save.create_dirs(filename, time_stamp)\n",
    "\n",
    "        model_save_path = os.path.join(model_data, \"Ensem_model---{:04d}.pt\".format(cepoch))\n",
    "        torch.save(ensemble_model.state_dict(), model_save_path)\n",
    "\n",
    "        log_dict = {}\n",
    "        log_dict['batch_log_list'] = batch_log_list\n",
    "        log_dict['epoch_log_dict'] = epoch_log_dict\n",
    "        log_dict['config_dict'] = config_dict\n",
    "\n",
    "        model_report_path = os.path.join(model_report, \"Ensem_log---{:04d}.npy\".format(cepoch))\n",
    "        # model_report_path = \"{}.npy\".format(model_report)\n",
    "        np.save(model_report_path, log_dict)\n",
    "\n",
    "    return batch_log_list, epoch_log_dict"
   ]
  },
  {
   "cell_type": "code",
   "execution_count": 25,
   "metadata": {},
   "outputs": [
    {
     "name": "stdout",
     "output_type": "stream",
     "text": [
      "\u001b[1;37;40m# # # # # # # # # # # # # # # # # # # #\n",
      "#     Format training\n",
      "# # # # # # # # # # # # # # # # # # # #\u001b[0;0m\n"
     ]
    },
    {
     "name": "stderr",
     "output_type": "stream",
     "text": [
      "Train Epoch: 1 [ 60032/60032 (100%)] Loss:2.3156 Acc:13.1935 hsic_xz:-1.0000 hsic_yz:-1.0000: 100%|███████████████| 469/469.0 [00:17<00:00, 26.86it/s]\n"
     ]
    },
    {
     "name": "stdout",
     "output_type": "stream",
     "text": [
      "\u001b[1;32;40mEpoch - [0001]: Training Acc: 15.99\u001b[0;0m\n",
      "\u001b[1;32;40mEpoch - [0001]: Testing  Acc: 15.65\u001b[0;0m\n",
      "Model files saved in:  X:/Data Files/Huawei/mnist\\exp_20221101-233947\n",
      "Model report files saved in :  X:/Data Files/Huawei/mnist\\exp_20221101-233947\\reports\n",
      "Model saved in :  X:/Data Files/Huawei/mnist\\exp_20221101-233947\\reports\\model\n"
     ]
    },
    {
     "name": "stderr",
     "output_type": "stream",
     "text": [
      "Train Epoch: 2 [ 60032/60032 (100%)] Loss:2.2246 Acc:19.4935 hsic_xz:-1.0000 hsic_yz:-1.0000: 100%|███████████████| 469/469.0 [00:17<00:00, 26.81it/s]\n"
     ]
    },
    {
     "name": "stdout",
     "output_type": "stream",
     "text": [
      "\u001b[1;32;40mEpoch - [0002]: Training Acc: 23.09\u001b[0;0m\n",
      "\u001b[1;32;40mEpoch - [0002]: Testing  Acc: 22.67\u001b[0;0m\n",
      "Model files saved in:  X:/Data Files/Huawei/mnist\\exp_20221101-233947\n",
      "Model report files saved in :  X:/Data Files/Huawei/mnist\\exp_20221101-233947\\reports\n",
      "Model saved in :  X:/Data Files/Huawei/mnist\\exp_20221101-233947\\reports\\model\n"
     ]
    },
    {
     "name": "stderr",
     "output_type": "stream",
     "text": [
      "Train Epoch: 3 [ 60032/60032 (100%)] Loss:2.1475 Acc:26.4037 hsic_xz:-1.0000 hsic_yz:-1.0000: 100%|███████████████| 469/469.0 [00:17<00:00, 26.87it/s]\n"
     ]
    },
    {
     "name": "stdout",
     "output_type": "stream",
     "text": [
      "\u001b[1;32;40mEpoch - [0003]: Training Acc: 29.62\u001b[0;0m\n",
      "\u001b[1;32;40mEpoch - [0003]: Testing  Acc: 29.68\u001b[0;0m\n",
      "Model files saved in:  X:/Data Files/Huawei/mnist\\exp_20221101-233947\n",
      "Model report files saved in :  X:/Data Files/Huawei/mnist\\exp_20221101-233947\\reports\n",
      "Model saved in :  X:/Data Files/Huawei/mnist\\exp_20221101-233947\\reports\\model\n"
     ]
    },
    {
     "name": "stderr",
     "output_type": "stream",
     "text": [
      "Train Epoch: 4 [ 60032/60032 (100%)] Loss:2.0781 Acc:32.3616 hsic_xz:-1.0000 hsic_yz:-1.0000: 100%|███████████████| 469/469.0 [00:17<00:00, 26.86it/s]\n"
     ]
    },
    {
     "name": "stdout",
     "output_type": "stream",
     "text": [
      "\u001b[1;32;40mEpoch - [0004]: Training Acc: 35.01\u001b[0;0m\n",
      "\u001b[1;32;40mEpoch - [0004]: Testing  Acc: 35.36\u001b[0;0m\n",
      "Model files saved in:  X:/Data Files/Huawei/mnist\\exp_20221101-233947\n",
      "Model report files saved in :  X:/Data Files/Huawei/mnist\\exp_20221101-233947\\reports\n",
      "Model saved in :  X:/Data Files/Huawei/mnist\\exp_20221101-233947\\reports\\model\n"
     ]
    },
    {
     "name": "stderr",
     "output_type": "stream",
     "text": [
      "Train Epoch: 5 [ 60032/60032 (100%)] Loss:2.0152 Acc:37.1807 hsic_xz:-1.0000 hsic_yz:-1.0000: 100%|███████████████| 469/469.0 [00:17<00:00, 26.59it/s]\n"
     ]
    },
    {
     "name": "stdout",
     "output_type": "stream",
     "text": [
      "\u001b[1;32;40mEpoch - [0005]: Training Acc: 39.28\u001b[0;0m\n",
      "\u001b[1;32;40mEpoch - [0005]: Testing  Acc: 39.90\u001b[0;0m\n",
      "Model files saved in:  X:/Data Files/Huawei/mnist\\exp_20221101-233947\n",
      "Model report files saved in :  X:/Data Files/Huawei/mnist\\exp_20221101-233947\\reports\n",
      "Model saved in :  X:/Data Files/Huawei/mnist\\exp_20221101-233947\\reports\\model\n"
     ]
    },
    {
     "name": "stderr",
     "output_type": "stream",
     "text": [
      "Train Epoch: 6 [ 60032/60032 (100%)] Loss:1.9581 Acc:40.9976 hsic_xz:-1.0000 hsic_yz:-1.0000: 100%|███████████████| 469/469.0 [00:17<00:00, 26.72it/s]\n"
     ]
    },
    {
     "name": "stdout",
     "output_type": "stream",
     "text": [
      "\u001b[1;32;40mEpoch - [0006]: Training Acc: 42.63\u001b[0;0m\n",
      "\u001b[1;32;40mEpoch - [0006]: Testing  Acc: 43.47\u001b[0;0m\n",
      "Model files saved in:  X:/Data Files/Huawei/mnist\\exp_20221101-233947\n",
      "Model report files saved in :  X:/Data Files/Huawei/mnist\\exp_20221101-233947\\reports\n",
      "Model saved in :  X:/Data Files/Huawei/mnist\\exp_20221101-233947\\reports\\model\n"
     ]
    },
    {
     "name": "stderr",
     "output_type": "stream",
     "text": [
      "Train Epoch: 7 [ 60032/60032 (100%)] Loss:1.9063 Acc:43.9976 hsic_xz:-1.0000 hsic_yz:-1.0000: 100%|███████████████| 469/469.0 [00:17<00:00, 26.69it/s]\n"
     ]
    },
    {
     "name": "stdout",
     "output_type": "stream",
     "text": [
      "\u001b[1;32;40mEpoch - [0007]: Training Acc: 45.36\u001b[0;0m\n",
      "\u001b[1;32;40mEpoch - [0007]: Testing  Acc: 46.38\u001b[0;0m\n",
      "Model files saved in:  X:/Data Files/Huawei/mnist\\exp_20221101-233947\n",
      "Model report files saved in :  X:/Data Files/Huawei/mnist\\exp_20221101-233947\\reports\n",
      "Model saved in :  X:/Data Files/Huawei/mnist\\exp_20221101-233947\\reports\\model\n"
     ]
    },
    {
     "name": "stderr",
     "output_type": "stream",
     "text": [
      "Train Epoch: 8 [ 60032/60032 (100%)] Loss:1.8592 Acc:46.4758 hsic_xz:-1.0000 hsic_yz:-1.0000: 100%|███████████████| 469/469.0 [00:17<00:00, 26.70it/s]\n"
     ]
    },
    {
     "name": "stdout",
     "output_type": "stream",
     "text": [
      "\u001b[1;32;40mEpoch - [0008]: Training Acc: 47.51\u001b[0;0m\n",
      "\u001b[1;32;40mEpoch - [0008]: Testing  Acc: 48.67\u001b[0;0m\n",
      "Model files saved in:  X:/Data Files/Huawei/mnist\\exp_20221101-233947\n",
      "Model report files saved in :  X:/Data Files/Huawei/mnist\\exp_20221101-233947\\reports\n",
      "Model saved in :  X:/Data Files/Huawei/mnist\\exp_20221101-233947\\reports\\model\n"
     ]
    },
    {
     "name": "stderr",
     "output_type": "stream",
     "text": [
      "Train Epoch: 9 [ 60032/60032 (100%)] Loss:1.8162 Acc:48.4358 hsic_xz:-1.0000 hsic_yz:-1.0000: 100%|███████████████| 469/469.0 [00:17<00:00, 26.65it/s]\n"
     ]
    },
    {
     "name": "stdout",
     "output_type": "stream",
     "text": [
      "\u001b[1;32;40mEpoch - [0009]: Training Acc: 49.30\u001b[0;0m\n",
      "\u001b[1;32;40mEpoch - [0009]: Testing  Acc: 50.47\u001b[0;0m\n",
      "Model files saved in:  X:/Data Files/Huawei/mnist\\exp_20221101-233947\n",
      "Model report files saved in :  X:/Data Files/Huawei/mnist\\exp_20221101-233947\\reports\n",
      "Model saved in :  X:/Data Files/Huawei/mnist\\exp_20221101-233947\\reports\\model\n"
     ]
    },
    {
     "name": "stderr",
     "output_type": "stream",
     "text": [
      "Train Epoch: 10 [ 60032/60032 (100%)] Loss:1.7769 Acc:50.0366 hsic_xz:-1.0000 hsic_yz:-1.0000: 100%|██████████████| 469/469.0 [00:17<00:00, 26.67it/s]\n"
     ]
    },
    {
     "name": "stdout",
     "output_type": "stream",
     "text": [
      "\u001b[1;32;40mEpoch - [0010]: Training Acc: 50.67\u001b[0;0m\n",
      "\u001b[1;32;40mEpoch - [0010]: Testing  Acc: 52.02\u001b[0;0m\n",
      "Model files saved in:  X:/Data Files/Huawei/mnist\\exp_20221101-233947\n",
      "Model report files saved in :  X:/Data Files/Huawei/mnist\\exp_20221101-233947\\reports\n",
      "Model saved in :  X:/Data Files/Huawei/mnist\\exp_20221101-233947\\reports\\model\n"
     ]
    },
    {
     "name": "stderr",
     "output_type": "stream",
     "text": [
      "Train Epoch: 11 [ 60032/60032 (100%)] Loss:1.7410 Acc:51.3110 hsic_xz:-1.0000 hsic_yz:-1.0000: 100%|██████████████| 469/469.0 [00:17<00:00, 26.68it/s]\n"
     ]
    },
    {
     "name": "stdout",
     "output_type": "stream",
     "text": [
      "\u001b[1;32;40mEpoch - [0011]: Training Acc: 51.86\u001b[0;0m\n",
      "\u001b[1;32;40mEpoch - [0011]: Testing  Acc: 53.27\u001b[0;0m\n",
      "Model files saved in:  X:/Data Files/Huawei/mnist\\exp_20221101-233947\n",
      "Model report files saved in :  X:/Data Files/Huawei/mnist\\exp_20221101-233947\\reports\n",
      "Model saved in :  X:/Data Files/Huawei/mnist\\exp_20221101-233947\\reports\\model\n"
     ]
    },
    {
     "name": "stderr",
     "output_type": "stream",
     "text": [
      "Train Epoch: 12 [ 60032/60032 (100%)] Loss:1.7080 Acc:52.4187 hsic_xz:-1.0000 hsic_yz:-1.0000: 100%|██████████████| 469/469.0 [00:17<00:00, 26.58it/s]\n"
     ]
    },
    {
     "name": "stdout",
     "output_type": "stream",
     "text": [
      "\u001b[1;32;40mEpoch - [0012]: Training Acc: 52.90\u001b[0;0m\n",
      "\u001b[1;32;40mEpoch - [0012]: Testing  Acc: 54.27\u001b[0;0m\n",
      "Model files saved in:  X:/Data Files/Huawei/mnist\\exp_20221101-233947\n",
      "Model report files saved in :  X:/Data Files/Huawei/mnist\\exp_20221101-233947\\reports\n",
      "Model saved in :  X:/Data Files/Huawei/mnist\\exp_20221101-233947\\reports\\model\n"
     ]
    },
    {
     "name": "stderr",
     "output_type": "stream",
     "text": [
      "Train Epoch: 13 [ 60032/60032 (100%)] Loss:1.6776 Acc:53.3060 hsic_xz:-1.0000 hsic_yz:-1.0000: 100%|██████████████| 469/469.0 [00:17<00:00, 26.68it/s]\n"
     ]
    },
    {
     "name": "stdout",
     "output_type": "stream",
     "text": [
      "\u001b[1;32;40mEpoch - [0013]: Training Acc: 53.76\u001b[0;0m\n",
      "\u001b[1;32;40mEpoch - [0013]: Testing  Acc: 55.14\u001b[0;0m\n",
      "Model files saved in:  X:/Data Files/Huawei/mnist\\exp_20221101-233947\n",
      "Model report files saved in :  X:/Data Files/Huawei/mnist\\exp_20221101-233947\\reports\n",
      "Model saved in :  X:/Data Files/Huawei/mnist\\exp_20221101-233947\\reports\\model\n"
     ]
    },
    {
     "name": "stderr",
     "output_type": "stream",
     "text": [
      "Train Epoch: 14 [ 60032/60032 (100%)] Loss:1.6496 Acc:54.0706 hsic_xz:-1.0000 hsic_yz:-1.0000: 100%|██████████████| 469/469.0 [00:17<00:00, 26.64it/s]\n"
     ]
    },
    {
     "name": "stdout",
     "output_type": "stream",
     "text": [
      "\u001b[1;32;40mEpoch - [0014]: Training Acc: 54.48\u001b[0;0m\n",
      "\u001b[1;32;40mEpoch - [0014]: Testing  Acc: 55.99\u001b[0;0m\n",
      "Model files saved in:  X:/Data Files/Huawei/mnist\\exp_20221101-233947\n",
      "Model report files saved in :  X:/Data Files/Huawei/mnist\\exp_20221101-233947\\reports\n",
      "Model saved in :  X:/Data Files/Huawei/mnist\\exp_20221101-233947\\reports\\model\n"
     ]
    },
    {
     "name": "stderr",
     "output_type": "stream",
     "text": [
      "Train Epoch: 15 [ 60032/60032 (100%)] Loss:1.6237 Acc:54.7963 hsic_xz:-1.0000 hsic_yz:-1.0000: 100%|██████████████| 469/469.0 [00:17<00:00, 26.66it/s]\n"
     ]
    },
    {
     "name": "stdout",
     "output_type": "stream",
     "text": [
      "\u001b[1;32;40mEpoch - [0015]: Training Acc: 55.23\u001b[0;0m\n",
      "\u001b[1;32;40mEpoch - [0015]: Testing  Acc: 56.68\u001b[0;0m\n",
      "Model files saved in:  X:/Data Files/Huawei/mnist\\exp_20221101-233947\n",
      "Model report files saved in :  X:/Data Files/Huawei/mnist\\exp_20221101-233947\\reports\n",
      "Model saved in :  X:/Data Files/Huawei/mnist\\exp_20221101-233947\\reports\\model\n"
     ]
    },
    {
     "name": "stderr",
     "output_type": "stream",
     "text": [
      "Train Epoch: 16 [ 60032/60032 (100%)] Loss:1.5997 Acc:55.4526 hsic_xz:-1.0000 hsic_yz:-1.0000: 100%|██████████████| 469/469.0 [00:17<00:00, 26.68it/s]\n"
     ]
    },
    {
     "name": "stdout",
     "output_type": "stream",
     "text": [
      "\u001b[1;32;40mEpoch - [0016]: Training Acc: 55.78\u001b[0;0m\n",
      "\u001b[1;32;40mEpoch - [0016]: Testing  Acc: 57.09\u001b[0;0m\n",
      "Model files saved in:  X:/Data Files/Huawei/mnist\\exp_20221101-233947\n",
      "Model report files saved in :  X:/Data Files/Huawei/mnist\\exp_20221101-233947\\reports\n",
      "Model saved in :  X:/Data Files/Huawei/mnist\\exp_20221101-233947\\reports\\model\n"
     ]
    },
    {
     "name": "stderr",
     "output_type": "stream",
     "text": [
      "Train Epoch: 17 [ 60032/60032 (100%)] Loss:1.5774 Acc:56.0157 hsic_xz:-1.0000 hsic_yz:-1.0000: 100%|██████████████| 469/469.0 [00:17<00:00, 26.51it/s]\n"
     ]
    },
    {
     "name": "stdout",
     "output_type": "stream",
     "text": [
      "\u001b[1;32;40mEpoch - [0017]: Training Acc: 56.30\u001b[0;0m\n",
      "\u001b[1;32;40mEpoch - [0017]: Testing  Acc: 57.66\u001b[0;0m\n",
      "Model files saved in:  X:/Data Files/Huawei/mnist\\exp_20221101-233947\n",
      "Model report files saved in :  X:/Data Files/Huawei/mnist\\exp_20221101-233947\\reports\n",
      "Model saved in :  X:/Data Files/Huawei/mnist\\exp_20221101-233947\\reports\\model\n"
     ]
    },
    {
     "name": "stderr",
     "output_type": "stream",
     "text": [
      "Train Epoch: 18 [ 60032/60032 (100%)] Loss:1.5567 Acc:56.5199 hsic_xz:-1.0000 hsic_yz:-1.0000: 100%|██████████████| 469/469.0 [00:17<00:00, 26.61it/s]\n"
     ]
    },
    {
     "name": "stdout",
     "output_type": "stream",
     "text": [
      "\u001b[1;32;40mEpoch - [0018]: Training Acc: 56.75\u001b[0;0m\n",
      "\u001b[1;32;40mEpoch - [0018]: Testing  Acc: 58.06\u001b[0;0m\n",
      "Model files saved in:  X:/Data Files/Huawei/mnist\\exp_20221101-233947\n",
      "Model report files saved in :  X:/Data Files/Huawei/mnist\\exp_20221101-233947\\reports\n",
      "Model saved in :  X:/Data Files/Huawei/mnist\\exp_20221101-233947\\reports\\model\n"
     ]
    },
    {
     "name": "stderr",
     "output_type": "stream",
     "text": [
      "Train Epoch: 19 [ 60032/60032 (100%)] Loss:1.5373 Acc:56.8997 hsic_xz:-1.0000 hsic_yz:-1.0000: 100%|██████████████| 469/469.0 [00:17<00:00, 26.65it/s]\n"
     ]
    },
    {
     "name": "stdout",
     "output_type": "stream",
     "text": [
      "\u001b[1;32;40mEpoch - [0019]: Training Acc: 57.14\u001b[0;0m\n",
      "\u001b[1;32;40mEpoch - [0019]: Testing  Acc: 58.64\u001b[0;0m\n",
      "Model files saved in:  X:/Data Files/Huawei/mnist\\exp_20221101-233947\n",
      "Model report files saved in :  X:/Data Files/Huawei/mnist\\exp_20221101-233947\\reports\n",
      "Model saved in :  X:/Data Files/Huawei/mnist\\exp_20221101-233947\\reports\\model\n"
     ]
    },
    {
     "name": "stderr",
     "output_type": "stream",
     "text": [
      "Train Epoch: 20 [ 60032/60032 (100%)] Loss:1.5192 Acc:57.2894 hsic_xz:-1.0000 hsic_yz:-1.0000: 100%|██████████████| 469/469.0 [00:17<00:00, 26.65it/s]\n"
     ]
    },
    {
     "name": "stdout",
     "output_type": "stream",
     "text": [
      "\u001b[1;32;40mEpoch - [0020]: Training Acc: 57.49\u001b[0;0m\n",
      "\u001b[1;32;40mEpoch - [0020]: Testing  Acc: 58.98\u001b[0;0m\n",
      "Model files saved in:  X:/Data Files/Huawei/mnist\\exp_20221101-233947\n",
      "Model report files saved in :  X:/Data Files/Huawei/mnist\\exp_20221101-233947\\reports\n",
      "Model saved in :  X:/Data Files/Huawei/mnist\\exp_20221101-233947\\reports\\model\n"
     ]
    },
    {
     "name": "stderr",
     "output_type": "stream",
     "text": [
      "Train Epoch: 21 [ 60032/60032 (100%)] Loss:1.5024 Acc:57.6537 hsic_xz:-1.0000 hsic_yz:-1.0000: 100%|██████████████| 469/469.0 [00:17<00:00, 26.58it/s]\n"
     ]
    },
    {
     "name": "stdout",
     "output_type": "stream",
     "text": [
      "\u001b[1;32;40mEpoch - [0021]: Training Acc: 57.83\u001b[0;0m\n",
      "\u001b[1;32;40mEpoch - [0021]: Testing  Acc: 59.38\u001b[0;0m\n",
      "Model files saved in:  X:/Data Files/Huawei/mnist\\exp_20221101-233947\n",
      "Model report files saved in :  X:/Data Files/Huawei/mnist\\exp_20221101-233947\\reports\n",
      "Model saved in :  X:/Data Files/Huawei/mnist\\exp_20221101-233947\\reports\\model\n"
     ]
    },
    {
     "name": "stderr",
     "output_type": "stream",
     "text": [
      "Train Epoch: 22 [ 60032/60032 (100%)] Loss:1.4866 Acc:57.9463 hsic_xz:-1.0000 hsic_yz:-1.0000: 100%|██████████████| 469/469.0 [00:17<00:00, 26.57it/s]\n"
     ]
    },
    {
     "name": "stdout",
     "output_type": "stream",
     "text": [
      "\u001b[1;32;40mEpoch - [0022]: Training Acc: 58.14\u001b[0;0m\n",
      "\u001b[1;32;40mEpoch - [0022]: Testing  Acc: 59.70\u001b[0;0m\n",
      "Model files saved in:  X:/Data Files/Huawei/mnist\\exp_20221101-233947\n",
      "Model report files saved in :  X:/Data Files/Huawei/mnist\\exp_20221101-233947\\reports\n",
      "Model saved in :  X:/Data Files/Huawei/mnist\\exp_20221101-233947\\reports\\model\n"
     ]
    },
    {
     "name": "stderr",
     "output_type": "stream",
     "text": [
      "Train Epoch: 23 [ 60032/60032 (100%)] Loss:1.4717 Acc:58.3000 hsic_xz:-1.0000 hsic_yz:-1.0000: 100%|██████████████| 469/469.0 [00:17<00:00, 26.66it/s]\n"
     ]
    },
    {
     "name": "stdout",
     "output_type": "stream",
     "text": [
      "\u001b[1;32;40mEpoch - [0023]: Training Acc: 58.45\u001b[0;0m\n",
      "\u001b[1;32;40mEpoch - [0023]: Testing  Acc: 59.97\u001b[0;0m\n",
      "Model files saved in:  X:/Data Files/Huawei/mnist\\exp_20221101-233947\n",
      "Model report files saved in :  X:/Data Files/Huawei/mnist\\exp_20221101-233947\\reports\n",
      "Model saved in :  X:/Data Files/Huawei/mnist\\exp_20221101-233947\\reports\\model\n"
     ]
    },
    {
     "name": "stderr",
     "output_type": "stream",
     "text": [
      "Train Epoch: 24 [ 60032/60032 (100%)] Loss:1.4578 Acc:58.5549 hsic_xz:-1.0000 hsic_yz:-1.0000: 100%|██████████████| 469/469.0 [00:17<00:00, 26.63it/s]\n"
     ]
    },
    {
     "name": "stdout",
     "output_type": "stream",
     "text": [
      "\u001b[1;32;40mEpoch - [0024]: Training Acc: 58.69\u001b[0;0m\n",
      "\u001b[1;32;40mEpoch - [0024]: Testing  Acc: 60.18\u001b[0;0m\n",
      "Model files saved in:  X:/Data Files/Huawei/mnist\\exp_20221101-233947\n",
      "Model report files saved in :  X:/Data Files/Huawei/mnist\\exp_20221101-233947\\reports\n",
      "Model saved in :  X:/Data Files/Huawei/mnist\\exp_20221101-233947\\reports\\model\n"
     ]
    },
    {
     "name": "stderr",
     "output_type": "stream",
     "text": [
      "Train Epoch: 25 [ 60032/60032 (100%)] Loss:1.4446 Acc:58.8153 hsic_xz:-1.0000 hsic_yz:-1.0000: 100%|██████████████| 469/469.0 [00:17<00:00, 26.61it/s]\n"
     ]
    },
    {
     "name": "stdout",
     "output_type": "stream",
     "text": [
      "\u001b[1;32;40mEpoch - [0025]: Training Acc: 58.92\u001b[0;0m\n",
      "\u001b[1;32;40mEpoch - [0025]: Testing  Acc: 60.39\u001b[0;0m\n",
      "Model files saved in:  X:/Data Files/Huawei/mnist\\exp_20221101-233947\n",
      "Model report files saved in :  X:/Data Files/Huawei/mnist\\exp_20221101-233947\\reports\n",
      "Model saved in :  X:/Data Files/Huawei/mnist\\exp_20221101-233947\\reports\\model\n"
     ]
    },
    {
     "name": "stderr",
     "output_type": "stream",
     "text": [
      "Train Epoch: 26 [ 60032/60032 (100%)] Loss:1.4322 Acc:59.0346 hsic_xz:-1.0000 hsic_yz:-1.0000: 100%|██████████████| 469/469.0 [00:17<00:00, 26.59it/s]\n"
     ]
    },
    {
     "name": "stdout",
     "output_type": "stream",
     "text": [
      "\u001b[1;32;40mEpoch - [0026]: Training Acc: 59.18\u001b[0;0m\n",
      "\u001b[1;32;40mEpoch - [0026]: Testing  Acc: 60.65\u001b[0;0m\n",
      "Model files saved in:  X:/Data Files/Huawei/mnist\\exp_20221101-233947\n",
      "Model report files saved in :  X:/Data Files/Huawei/mnist\\exp_20221101-233947\\reports\n",
      "Model saved in :  X:/Data Files/Huawei/mnist\\exp_20221101-233947\\reports\\model\n"
     ]
    },
    {
     "name": "stderr",
     "output_type": "stream",
     "text": [
      "Train Epoch: 27 [ 60032/60032 (100%)] Loss:1.4205 Acc:59.3117 hsic_xz:-1.0000 hsic_yz:-1.0000: 100%|██████████████| 469/469.0 [00:17<00:00, 26.56it/s]\n"
     ]
    },
    {
     "name": "stdout",
     "output_type": "stream",
     "text": [
      "\u001b[1;32;40mEpoch - [0027]: Training Acc: 59.41\u001b[0;0m\n",
      "\u001b[1;32;40mEpoch - [0027]: Testing  Acc: 60.82\u001b[0;0m\n",
      "Model files saved in:  X:/Data Files/Huawei/mnist\\exp_20221101-233947\n",
      "Model report files saved in :  X:/Data Files/Huawei/mnist\\exp_20221101-233947\\reports\n",
      "Model saved in :  X:/Data Files/Huawei/mnist\\exp_20221101-233947\\reports\\model\n"
     ]
    },
    {
     "name": "stderr",
     "output_type": "stream",
     "text": [
      "Train Epoch: 28 [ 60032/60032 (100%)] Loss:1.4094 Acc:59.5083 hsic_xz:-1.0000 hsic_yz:-1.0000: 100%|██████████████| 469/469.0 [00:17<00:00, 26.41it/s]\n"
     ]
    },
    {
     "name": "stdout",
     "output_type": "stream",
     "text": [
      "\u001b[1;32;40mEpoch - [0028]: Training Acc: 59.66\u001b[0;0m\n",
      "\u001b[1;32;40mEpoch - [0028]: Testing  Acc: 61.11\u001b[0;0m\n",
      "Model files saved in:  X:/Data Files/Huawei/mnist\\exp_20221101-233947\n",
      "Model report files saved in :  X:/Data Files/Huawei/mnist\\exp_20221101-233947\\reports\n",
      "Model saved in :  X:/Data Files/Huawei/mnist\\exp_20221101-233947\\reports\\model\n"
     ]
    },
    {
     "name": "stderr",
     "output_type": "stream",
     "text": [
      "Train Epoch: 29 [ 60032/60032 (100%)] Loss:1.3989 Acc:59.7287 hsic_xz:-1.0000 hsic_yz:-1.0000: 100%|██████████████| 469/469.0 [00:17<00:00, 26.62it/s]\n"
     ]
    },
    {
     "name": "stdout",
     "output_type": "stream",
     "text": [
      "\u001b[1;32;40mEpoch - [0029]: Training Acc: 59.81\u001b[0;0m\n",
      "\u001b[1;32;40mEpoch - [0029]: Testing  Acc: 61.35\u001b[0;0m\n",
      "Model files saved in:  X:/Data Files/Huawei/mnist\\exp_20221101-233947\n",
      "Model report files saved in :  X:/Data Files/Huawei/mnist\\exp_20221101-233947\\reports\n",
      "Model saved in :  X:/Data Files/Huawei/mnist\\exp_20221101-233947\\reports\\model\n"
     ]
    },
    {
     "name": "stderr",
     "output_type": "stream",
     "text": [
      "Train Epoch: 30 [ 60032/60032 (100%)] Loss:1.3889 Acc:59.8881 hsic_xz:-1.0000 hsic_yz:-1.0000: 100%|██████████████| 469/469.0 [00:17<00:00, 26.80it/s]\n"
     ]
    },
    {
     "name": "stdout",
     "output_type": "stream",
     "text": [
      "\u001b[1;32;40mEpoch - [0030]: Training Acc: 59.97\u001b[0;0m\n",
      "\u001b[1;32;40mEpoch - [0030]: Testing  Acc: 61.41\u001b[0;0m\n",
      "Model files saved in:  X:/Data Files/Huawei/mnist\\exp_20221101-233947\n",
      "Model report files saved in :  X:/Data Files/Huawei/mnist\\exp_20221101-233947\\reports\n",
      "Model saved in :  X:/Data Files/Huawei/mnist\\exp_20221101-233947\\reports\\model\n"
     ]
    },
    {
     "name": "stderr",
     "output_type": "stream",
     "text": [
      "Train Epoch: 31 [ 60032/60032 (100%)] Loss:1.3795 Acc:60.0585 hsic_xz:-1.0000 hsic_yz:-1.0000: 100%|██████████████| 469/469.0 [00:17<00:00, 26.71it/s]\n"
     ]
    },
    {
     "name": "stdout",
     "output_type": "stream",
     "text": [
      "\u001b[1;32;40mEpoch - [0031]: Training Acc: 60.19\u001b[0;0m\n",
      "\u001b[1;32;40mEpoch - [0031]: Testing  Acc: 61.60\u001b[0;0m\n",
      "Model files saved in:  X:/Data Files/Huawei/mnist\\exp_20221101-233947\n",
      "Model report files saved in :  X:/Data Files/Huawei/mnist\\exp_20221101-233947\\reports\n",
      "Model saved in :  X:/Data Files/Huawei/mnist\\exp_20221101-233947\\reports\\model\n"
     ]
    },
    {
     "name": "stderr",
     "output_type": "stream",
     "text": [
      "Train Epoch: 32 [ 60032/60032 (100%)] Loss:1.3705 Acc:60.2695 hsic_xz:-1.0000 hsic_yz:-1.0000: 100%|██████████████| 469/469.0 [00:17<00:00, 26.64it/s]\n"
     ]
    },
    {
     "name": "stdout",
     "output_type": "stream",
     "text": [
      "\u001b[1;32;40mEpoch - [0032]: Training Acc: 60.37\u001b[0;0m\n",
      "\u001b[1;32;40mEpoch - [0032]: Testing  Acc: 61.70\u001b[0;0m\n",
      "Model files saved in:  X:/Data Files/Huawei/mnist\\exp_20221101-233947\n",
      "Model report files saved in :  X:/Data Files/Huawei/mnist\\exp_20221101-233947\\reports\n",
      "Model saved in :  X:/Data Files/Huawei/mnist\\exp_20221101-233947\\reports\\model\n"
     ]
    },
    {
     "name": "stderr",
     "output_type": "stream",
     "text": [
      "Train Epoch: 33 [ 60032/60032 (100%)] Loss:1.3620 Acc:60.4494 hsic_xz:-1.0000 hsic_yz:-1.0000: 100%|██████████████| 469/469.0 [00:17<00:00, 26.66it/s]\n"
     ]
    },
    {
     "name": "stdout",
     "output_type": "stream",
     "text": [
      "\u001b[1;32;40mEpoch - [0033]: Training Acc: 60.52\u001b[0;0m\n",
      "\u001b[1;32;40mEpoch - [0033]: Testing  Acc: 61.86\u001b[0;0m\n",
      "Model files saved in:  X:/Data Files/Huawei/mnist\\exp_20221101-233947\n",
      "Model report files saved in :  X:/Data Files/Huawei/mnist\\exp_20221101-233947\\reports\n",
      "Model saved in :  X:/Data Files/Huawei/mnist\\exp_20221101-233947\\reports\\model\n"
     ]
    },
    {
     "name": "stderr",
     "output_type": "stream",
     "text": [
      "Train Epoch: 34 [ 60032/60032 (100%)] Loss:1.3538 Acc:60.5899 hsic_xz:-1.0000 hsic_yz:-1.0000: 100%|██████████████| 469/469.0 [00:17<00:00, 26.66it/s]\n"
     ]
    },
    {
     "name": "stdout",
     "output_type": "stream",
     "text": [
      "\u001b[1;32;40mEpoch - [0034]: Training Acc: 60.65\u001b[0;0m\n",
      "\u001b[1;32;40mEpoch - [0034]: Testing  Acc: 62.07\u001b[0;0m\n",
      "Model files saved in:  X:/Data Files/Huawei/mnist\\exp_20221101-233947\n",
      "Model report files saved in :  X:/Data Files/Huawei/mnist\\exp_20221101-233947\\reports\n",
      "Model saved in :  X:/Data Files/Huawei/mnist\\exp_20221101-233947\\reports\\model\n"
     ]
    },
    {
     "name": "stderr",
     "output_type": "stream",
     "text": [
      "Train Epoch: 35 [ 60032/60032 (100%)] Loss:1.3461 Acc:60.7271 hsic_xz:-1.0000 hsic_yz:-1.0000: 100%|██████████████| 469/469.0 [00:17<00:00, 26.52it/s]\n"
     ]
    },
    {
     "name": "stdout",
     "output_type": "stream",
     "text": [
      "\u001b[1;32;40mEpoch - [0035]: Training Acc: 60.82\u001b[0;0m\n",
      "\u001b[1;32;40mEpoch - [0035]: Testing  Acc: 62.25\u001b[0;0m\n",
      "Model files saved in:  X:/Data Files/Huawei/mnist\\exp_20221101-233947\n",
      "Model report files saved in :  X:/Data Files/Huawei/mnist\\exp_20221101-233947\\reports\n",
      "Model saved in :  X:/Data Files/Huawei/mnist\\exp_20221101-233947\\reports\\model\n"
     ]
    },
    {
     "name": "stderr",
     "output_type": "stream",
     "text": [
      "Train Epoch: 36 [ 60032/60032 (100%)] Loss:1.3388 Acc:60.8642 hsic_xz:-1.0000 hsic_yz:-1.0000: 100%|██████████████| 469/469.0 [00:17<00:00, 26.74it/s]\n"
     ]
    },
    {
     "name": "stdout",
     "output_type": "stream",
     "text": [
      "\u001b[1;32;40mEpoch - [0036]: Training Acc: 60.94\u001b[0;0m\n",
      "\u001b[1;32;40mEpoch - [0036]: Testing  Acc: 62.34\u001b[0;0m\n",
      "Model files saved in:  X:/Data Files/Huawei/mnist\\exp_20221101-233947\n",
      "Model report files saved in :  X:/Data Files/Huawei/mnist\\exp_20221101-233947\\reports\n",
      "Model saved in :  X:/Data Files/Huawei/mnist\\exp_20221101-233947\\reports\\model\n"
     ]
    },
    {
     "name": "stderr",
     "output_type": "stream",
     "text": [
      "Train Epoch: 37 [ 60032/60032 (100%)] Loss:1.3317 Acc:60.9597 hsic_xz:-1.0000 hsic_yz:-1.0000: 100%|██████████████| 469/469.0 [00:17<00:00, 26.52it/s]\n"
     ]
    },
    {
     "name": "stdout",
     "output_type": "stream",
     "text": [
      "\u001b[1;32;40mEpoch - [0037]: Training Acc: 61.04\u001b[0;0m\n",
      "\u001b[1;32;40mEpoch - [0037]: Testing  Acc: 62.39\u001b[0;0m\n",
      "Model files saved in:  X:/Data Files/Huawei/mnist\\exp_20221101-233947\n",
      "Model report files saved in :  X:/Data Files/Huawei/mnist\\exp_20221101-233947\\reports\n",
      "Model saved in :  X:/Data Files/Huawei/mnist\\exp_20221101-233947\\reports\\model\n"
     ]
    },
    {
     "name": "stderr",
     "output_type": "stream",
     "text": [
      "Train Epoch: 38 [ 60032/60032 (100%)] Loss:1.3249 Acc:61.0996 hsic_xz:-1.0000 hsic_yz:-1.0000: 100%|██████████████| 469/469.0 [00:17<00:00, 26.71it/s]\n"
     ]
    },
    {
     "name": "stdout",
     "output_type": "stream",
     "text": [
      "\u001b[1;32;40mEpoch - [0038]: Training Acc: 61.12\u001b[0;0m\n",
      "\u001b[1;32;40mEpoch - [0038]: Testing  Acc: 62.44\u001b[0;0m\n",
      "Model files saved in:  X:/Data Files/Huawei/mnist\\exp_20221101-233947\n",
      "Model report files saved in :  X:/Data Files/Huawei/mnist\\exp_20221101-233947\\reports\n",
      "Model saved in :  X:/Data Files/Huawei/mnist\\exp_20221101-233947\\reports\\model\n"
     ]
    },
    {
     "name": "stderr",
     "output_type": "stream",
     "text": [
      "Train Epoch: 39 [ 60032/60032 (100%)] Loss:1.3186 Acc:61.1391 hsic_xz:-1.0000 hsic_yz:-1.0000: 100%|██████████████| 469/469.0 [00:17<00:00, 26.68it/s]\n"
     ]
    },
    {
     "name": "stdout",
     "output_type": "stream",
     "text": [
      "\u001b[1;32;40mEpoch - [0039]: Training Acc: 61.23\u001b[0;0m\n",
      "\u001b[1;32;40mEpoch - [0039]: Testing  Acc: 62.51\u001b[0;0m\n",
      "Model files saved in:  X:/Data Files/Huawei/mnist\\exp_20221101-233947\n",
      "Model report files saved in :  X:/Data Files/Huawei/mnist\\exp_20221101-233947\\reports\n",
      "Model saved in :  X:/Data Files/Huawei/mnist\\exp_20221101-233947\\reports\\model\n"
     ]
    },
    {
     "name": "stderr",
     "output_type": "stream",
     "text": [
      "Train Epoch: 40 [ 60032/60032 (100%)] Loss:1.3123 Acc:61.2818 hsic_xz:-1.0000 hsic_yz:-1.0000: 100%|██████████████| 469/469.0 [00:17<00:00, 26.69it/s]\n"
     ]
    },
    {
     "name": "stdout",
     "output_type": "stream",
     "text": [
      "\u001b[1;32;40mEpoch - [0040]: Training Acc: 61.33\u001b[0;0m\n",
      "\u001b[1;32;40mEpoch - [0040]: Testing  Acc: 62.55\u001b[0;0m\n",
      "Model files saved in:  X:/Data Files/Huawei/mnist\\exp_20221101-233947\n",
      "Model report files saved in :  X:/Data Files/Huawei/mnist\\exp_20221101-233947\\reports\n",
      "Model saved in :  X:/Data Files/Huawei/mnist\\exp_20221101-233947\\reports\\model\n"
     ]
    },
    {
     "name": "stderr",
     "output_type": "stream",
     "text": [
      "Train Epoch: 41 [ 60032/60032 (100%)] Loss:1.3065 Acc:61.3267 hsic_xz:-1.0000 hsic_yz:-1.0000: 100%|██████████████| 469/469.0 [00:17<00:00, 26.74it/s]\n"
     ]
    },
    {
     "name": "stdout",
     "output_type": "stream",
     "text": [
      "\u001b[1;32;40mEpoch - [0041]: Training Acc: 61.35\u001b[0;0m\n",
      "\u001b[1;32;40mEpoch - [0041]: Testing  Acc: 62.61\u001b[0;0m\n",
      "Model files saved in:  X:/Data Files/Huawei/mnist\\exp_20221101-233947\n",
      "Model report files saved in :  X:/Data Files/Huawei/mnist\\exp_20221101-233947\\reports\n",
      "Model saved in :  X:/Data Files/Huawei/mnist\\exp_20221101-233947\\reports\\model\n"
     ]
    },
    {
     "name": "stderr",
     "output_type": "stream",
     "text": [
      "Train Epoch: 42 [ 60032/60032 (100%)] Loss:1.3008 Acc:61.4078 hsic_xz:-1.0000 hsic_yz:-1.0000: 100%|██████████████| 469/469.0 [00:17<00:00, 26.73it/s]\n"
     ]
    },
    {
     "name": "stdout",
     "output_type": "stream",
     "text": [
      "\u001b[1;32;40mEpoch - [0042]: Training Acc: 61.42\u001b[0;0m\n",
      "\u001b[1;32;40mEpoch - [0042]: Testing  Acc: 62.67\u001b[0;0m\n",
      "Model files saved in:  X:/Data Files/Huawei/mnist\\exp_20221101-233947\n",
      "Model report files saved in :  X:/Data Files/Huawei/mnist\\exp_20221101-233947\\reports\n",
      "Model saved in :  X:/Data Files/Huawei/mnist\\exp_20221101-233947\\reports\\model\n"
     ]
    },
    {
     "name": "stderr",
     "output_type": "stream",
     "text": [
      "Train Epoch: 43 [ 60032/60032 (100%)] Loss:1.2953 Acc:61.4861 hsic_xz:-1.0000 hsic_yz:-1.0000: 100%|██████████████| 469/469.0 [00:17<00:00, 26.74it/s]\n"
     ]
    },
    {
     "name": "stdout",
     "output_type": "stream",
     "text": [
      "\u001b[1;32;40mEpoch - [0043]: Training Acc: 61.53\u001b[0;0m\n",
      "\u001b[1;32;40mEpoch - [0043]: Testing  Acc: 62.69\u001b[0;0m\n",
      "Model files saved in:  X:/Data Files/Huawei/mnist\\exp_20221101-233947\n",
      "Model report files saved in :  X:/Data Files/Huawei/mnist\\exp_20221101-233947\\reports\n",
      "Model saved in :  X:/Data Files/Huawei/mnist\\exp_20221101-233947\\reports\\model\n"
     ]
    },
    {
     "name": "stderr",
     "output_type": "stream",
     "text": [
      "Train Epoch: 44 [ 60032/60032 (100%)] Loss:1.2901 Acc:61.5322 hsic_xz:-1.0000 hsic_yz:-1.0000: 100%|██████████████| 469/469.0 [00:17<00:00, 26.10it/s]\n"
     ]
    },
    {
     "name": "stdout",
     "output_type": "stream",
     "text": [
      "\u001b[1;32;40mEpoch - [0044]: Training Acc: 61.59\u001b[0;0m\n",
      "\u001b[1;32;40mEpoch - [0044]: Testing  Acc: 62.73\u001b[0;0m\n",
      "Model files saved in:  X:/Data Files/Huawei/mnist\\exp_20221101-233947\n",
      "Model report files saved in :  X:/Data Files/Huawei/mnist\\exp_20221101-233947\\reports\n",
      "Model saved in :  X:/Data Files/Huawei/mnist\\exp_20221101-233947\\reports\\model\n"
     ]
    },
    {
     "name": "stderr",
     "output_type": "stream",
     "text": [
      "Train Epoch: 45 [ 60032/60032 (100%)] Loss:1.2850 Acc:61.6382 hsic_xz:-1.0000 hsic_yz:-1.0000: 100%|██████████████| 469/469.0 [00:17<00:00, 26.36it/s]\n"
     ]
    },
    {
     "name": "stdout",
     "output_type": "stream",
     "text": [
      "\u001b[1;32;40mEpoch - [0045]: Training Acc: 61.69\u001b[0;0m\n",
      "\u001b[1;32;40mEpoch - [0045]: Testing  Acc: 62.82\u001b[0;0m\n",
      "Model files saved in:  X:/Data Files/Huawei/mnist\\exp_20221101-233947\n",
      "Model report files saved in :  X:/Data Files/Huawei/mnist\\exp_20221101-233947\\reports\n",
      "Model saved in :  X:/Data Files/Huawei/mnist\\exp_20221101-233947\\reports\\model\n"
     ]
    },
    {
     "name": "stderr",
     "output_type": "stream",
     "text": [
      "Train Epoch: 46 [ 60032/60032 (100%)] Loss:1.2803 Acc:61.6721 hsic_xz:-1.0000 hsic_yz:-1.0000: 100%|██████████████| 469/469.0 [00:17<00:00, 26.08it/s]\n"
     ]
    },
    {
     "name": "stdout",
     "output_type": "stream",
     "text": [
      "\u001b[1;32;40mEpoch - [0046]: Training Acc: 61.70\u001b[0;0m\n",
      "\u001b[1;32;40mEpoch - [0046]: Testing  Acc: 62.84\u001b[0;0m\n",
      "Model files saved in:  X:/Data Files/Huawei/mnist\\exp_20221101-233947\n",
      "Model report files saved in :  X:/Data Files/Huawei/mnist\\exp_20221101-233947\\reports\n",
      "Model saved in :  X:/Data Files/Huawei/mnist\\exp_20221101-233947\\reports\\model\n"
     ]
    },
    {
     "name": "stderr",
     "output_type": "stream",
     "text": [
      "Train Epoch: 47 [ 60032/60032 (100%)] Loss:1.2757 Acc:61.7526 hsic_xz:-1.0000 hsic_yz:-1.0000: 100%|██████████████| 469/469.0 [00:17<00:00, 26.38it/s]\n"
     ]
    },
    {
     "name": "stdout",
     "output_type": "stream",
     "text": [
      "\u001b[1;32;40mEpoch - [0047]: Training Acc: 61.77\u001b[0;0m\n",
      "\u001b[1;32;40mEpoch - [0047]: Testing  Acc: 62.90\u001b[0;0m\n",
      "Model files saved in:  X:/Data Files/Huawei/mnist\\exp_20221101-233947\n",
      "Model report files saved in :  X:/Data Files/Huawei/mnist\\exp_20221101-233947\\reports\n",
      "Model saved in :  X:/Data Files/Huawei/mnist\\exp_20221101-233947\\reports\\model\n"
     ]
    },
    {
     "name": "stderr",
     "output_type": "stream",
     "text": [
      "Train Epoch: 48 [ 60032/60032 (100%)] Loss:1.2711 Acc:61.7909 hsic_xz:-1.0000 hsic_yz:-1.0000: 100%|██████████████| 469/469.0 [00:17<00:00, 26.31it/s]\n"
     ]
    },
    {
     "name": "stdout",
     "output_type": "stream",
     "text": [
      "\u001b[1;32;40mEpoch - [0048]: Training Acc: 61.85\u001b[0;0m\n",
      "\u001b[1;32;40mEpoch - [0048]: Testing  Acc: 63.01\u001b[0;0m\n",
      "Model files saved in:  X:/Data Files/Huawei/mnist\\exp_20221101-233947\n",
      "Model report files saved in :  X:/Data Files/Huawei/mnist\\exp_20221101-233947\\reports\n",
      "Model saved in :  X:/Data Files/Huawei/mnist\\exp_20221101-233947\\reports\\model\n"
     ]
    },
    {
     "name": "stderr",
     "output_type": "stream",
     "text": [
      "Train Epoch: 49 [ 60032/60032 (100%)] Loss:1.2669 Acc:61.8698 hsic_xz:-1.0000 hsic_yz:-1.0000: 100%|██████████████| 469/469.0 [00:17<00:00, 26.28it/s]\n"
     ]
    },
    {
     "name": "stdout",
     "output_type": "stream",
     "text": [
      "\u001b[1;32;40mEpoch - [0049]: Training Acc: 61.91\u001b[0;0m\n",
      "\u001b[1;32;40mEpoch - [0049]: Testing  Acc: 63.10\u001b[0;0m\n",
      "Model files saved in:  X:/Data Files/Huawei/mnist\\exp_20221101-233947\n",
      "Model report files saved in :  X:/Data Files/Huawei/mnist\\exp_20221101-233947\\reports\n",
      "Model saved in :  X:/Data Files/Huawei/mnist\\exp_20221101-233947\\reports\\model\n"
     ]
    },
    {
     "name": "stderr",
     "output_type": "stream",
     "text": [
      "Train Epoch: 50 [ 60032/60032 (100%)] Loss:1.2627 Acc:61.9514 hsic_xz:-1.0000 hsic_yz:-1.0000: 100%|██████████████| 469/469.0 [00:17<00:00, 26.65it/s]\n"
     ]
    },
    {
     "name": "stdout",
     "output_type": "stream",
     "text": [
      "\u001b[1;32;40mEpoch - [0050]: Training Acc: 61.98\u001b[0;0m\n",
      "\u001b[1;32;40mEpoch - [0050]: Testing  Acc: 63.19\u001b[0;0m\n",
      "Model files saved in:  X:/Data Files/Huawei/mnist\\exp_20221101-233947\n",
      "Model report files saved in :  X:/Data Files/Huawei/mnist\\exp_20221101-233947\\reports\n",
      "Model saved in :  X:/Data Files/Huawei/mnist\\exp_20221101-233947\\reports\\model\n"
     ]
    }
   ],
   "source": [
    "loadPath = r\"X:\\Data Files\\Huawei\\mnist\\exp_20221101-230528\\reports\\model\\model---0015.pt\"\n",
    "config_dict = {}\n",
    "config_dict['batch_size'] = 128\n",
    "config_dict['learning_rate'] = 0.001\n",
    "config_dict['n_layers'] = 5\n",
    "config_dict['hidden_width'] = 128\n",
    "config_dict['epochs'] = 50\n",
    "\n",
    "config_dict['seed'] = 1234\n",
    "config_dict['device'] = 'cuda'\n",
    "config_dict['atype'] = 'relu'\n",
    "config_dict['data_code'] = 'mnist'\n",
    "\n",
    "config_dict['lambda_y'] = 100.\n",
    "config_dict['sigma'] = 5.\n",
    "config_dict['task'] = 'hsic-train'\n",
    "config_dict['log_batch_interval'] = 10\n",
    "config_dict['ext'] = 'pdf'\n",
    "\n",
    "batch_log_list, epoch_log_dict = training_format(config_dict, loadPath)"
   ]
  },
  {
   "cell_type": "code",
   "execution_count": 28,
   "metadata": {},
   "outputs": [
    {
     "data": {
      "text/plain": [
       "{'train_acc': [10.988029,\n",
       "  15.987585,\n",
       "  23.091019,\n",
       "  29.616428,\n",
       "  35.00522,\n",
       "  39.277386,\n",
       "  42.630043,\n",
       "  45.359142,\n",
       "  47.50911,\n",
       "  49.297043,\n",
       "  50.666866,\n",
       "  51.86012,\n",
       "  52.901234,\n",
       "  53.762993,\n",
       "  54.4765,\n",
       "  55.233322,\n",
       "  55.77914,\n",
       "  56.29831,\n",
       "  56.746403,\n",
       "  57.137306,\n",
       "  57.492115,\n",
       "  57.82749,\n",
       "  58.137882,\n",
       "  58.45327,\n",
       "  58.69481,\n",
       "  58.921356,\n",
       "  59.178436,\n",
       "  59.410534,\n",
       "  59.655964,\n",
       "  59.812546,\n",
       "  59.970795,\n",
       "  60.19123,\n",
       "  60.37002,\n",
       "  60.51717,\n",
       "  60.654873,\n",
       "  60.820343,\n",
       "  60.941944,\n",
       "  61.043556,\n",
       "  61.124065,\n",
       "  61.232895,\n",
       "  61.325073,\n",
       "  61.352833,\n",
       "  61.42391,\n",
       "  61.5344,\n",
       "  61.58993,\n",
       "  61.6871,\n",
       "  61.700428,\n",
       "  61.768723,\n",
       "  61.850346,\n",
       "  61.90865,\n",
       "  61.98083],\n",
       " 'train_loss': [2.371275,\n",
       "  2.266331,\n",
       "  2.184241,\n",
       "  2.111375,\n",
       "  2.0452833,\n",
       "  1.9854494,\n",
       "  1.9311193,\n",
       "  1.8817402,\n",
       "  1.836767,\n",
       "  1.7957938,\n",
       "  1.7582438,\n",
       "  1.7238878,\n",
       "  1.6921854,\n",
       "  1.6630177,\n",
       "  1.6361719,\n",
       "  1.6112105,\n",
       "  1.5881052,\n",
       "  1.5665869,\n",
       "  1.5465444,\n",
       "  1.5279489,\n",
       "  1.5105095,\n",
       "  1.494119,\n",
       "  1.4788007,\n",
       "  1.4643912,\n",
       "  1.4508998,\n",
       "  1.4380664,\n",
       "  1.4260286,\n",
       "  1.4146354,\n",
       "  1.403873,\n",
       "  1.393596,\n",
       "  1.383933,\n",
       "  1.3746791,\n",
       "  1.3660403,\n",
       "  1.357724,\n",
       "  1.349778,\n",
       "  1.3423088,\n",
       "  1.334962,\n",
       "  1.3281225,\n",
       "  1.3215363,\n",
       "  1.3153024,\n",
       "  1.3091885,\n",
       "  1.303451,\n",
       "  1.2979468,\n",
       "  1.2925655,\n",
       "  1.2873578,\n",
       "  1.2824581,\n",
       "  1.2777727,\n",
       "  1.2732477,\n",
       "  1.2687582,\n",
       "  1.2645892,\n",
       "  1.260471],\n",
       " 'test_acc': [11.145174,\n",
       "  15.654668,\n",
       "  22.66614,\n",
       "  29.67761,\n",
       "  35.363926,\n",
       "  39.903084,\n",
       "  43.473103,\n",
       "  46.38054,\n",
       "  48.674843,\n",
       "  50.47468,\n",
       "  52.017406,\n",
       "  53.27334,\n",
       "  54.272152,\n",
       "  55.142406,\n",
       "  55.992878,\n",
       "  56.675236,\n",
       "  57.090584,\n",
       "  57.66416,\n",
       "  58.05973,\n",
       "  58.643196,\n",
       "  58.97943,\n",
       "  59.384888,\n",
       "  59.701344,\n",
       "  59.968353,\n",
       "  60.17603,\n",
       "  60.393593,\n",
       "  60.65071,\n",
       "  60.81883,\n",
       "  61.105618,\n",
       "  61.352848,\n",
       "  61.41218,\n",
       "  61.60008,\n",
       "  61.69897,\n",
       "  61.8572,\n",
       "  62.074764,\n",
       "  62.25277,\n",
       "  62.341774,\n",
       "  62.39122,\n",
       "  62.440666,\n",
       "  62.509888,\n",
       "  62.549446,\n",
       "  62.60878,\n",
       "  62.668118,\n",
       "  62.687897,\n",
       "  62.72745,\n",
       "  62.816456,\n",
       "  62.836235,\n",
       "  62.89557,\n",
       "  63.01424,\n",
       "  63.103245,\n",
       "  63.192245],\n",
       " 'test_loss': [2.3735,\n",
       "  2.2664888,\n",
       "  2.181819,\n",
       "  2.10632,\n",
       "  2.037977,\n",
       "  1.975954,\n",
       "  1.9197042,\n",
       "  1.8686649,\n",
       "  1.8221866,\n",
       "  1.7798157,\n",
       "  1.7410686,\n",
       "  1.7055533,\n",
       "  1.6729484,\n",
       "  1.6428972,\n",
       "  1.6151552,\n",
       "  1.5894591,\n",
       "  1.5656186,\n",
       "  1.5435143,\n",
       "  1.5228913,\n",
       "  1.5036924,\n",
       "  1.4857241,\n",
       "  1.4689176,\n",
       "  1.453158,\n",
       "  1.4383893,\n",
       "  1.4244545,\n",
       "  1.4113414,\n",
       "  1.3989536,\n",
       "  1.3872744,\n",
       "  1.3762122,\n",
       "  1.365731,\n",
       "  1.3558053,\n",
       "  1.3463725,\n",
       "  1.3374053,\n",
       "  1.3289005,\n",
       "  1.3207741,\n",
       "  1.3130261,\n",
       "  1.3056349,\n",
       "  1.2985915,\n",
       "  1.2918403,\n",
       "  1.2854072,\n",
       "  1.2792434,\n",
       "  1.2733089,\n",
       "  1.2676492,\n",
       "  1.262195,\n",
       "  1.2569582,\n",
       "  1.2519176,\n",
       "  1.2470765,\n",
       "  1.2424138,\n",
       "  1.2379764,\n",
       "  1.2336484,\n",
       "  1.229502]}"
      ]
     },
     "execution_count": 28,
     "metadata": {},
     "output_type": "execute_result"
    }
   ],
   "source": [
    "epoch_log_dict"
   ]
  },
  {
   "cell_type": "code",
   "execution_count": null,
   "metadata": {},
   "outputs": [],
   "source": []
  },
  {
   "cell_type": "markdown",
   "metadata": {},
   "source": [
    "# CIFAR10"
   ]
  },
  {
   "cell_type": "code",
   "execution_count": 40,
   "metadata": {},
   "outputs": [],
   "source": [
    "config_dict = {}\n",
    "config_dict['batch_size'] = 128\n",
    "config_dict['learning_rate'] = 0.001\n",
    "config_dict['n_layers'] = 5\n",
    "config_dict['hidden_width'] = 128\n",
    "config_dict['epochs'] = 15\n",
    "\n",
    "config_dict['seed'] = 1234\n",
    "config_dict['device'] = 'cuda'\n",
    "config_dict['atype'] = 'relu'\n",
    "config_dict['data_code'] = 'cifar10'\n",
    "\n",
    "config_dict['lambda_y'] = 100.\n",
    "config_dict['sigma'] = 5.\n",
    "config_dict['task'] = 'hsic-train'\n",
    "config_dict['log_batch_interval'] = 10\n",
    "config_dict['ext'] = 'pdf'"
   ]
  },
  {
   "cell_type": "code",
   "execution_count": 41,
   "metadata": {},
   "outputs": [
    {
     "name": "stdout",
     "output_type": "stream",
     "text": [
      "\u001b[1;37;40m# # # # # # # # # # # # # # # # # # # #\n",
      "#     HSIC-Bottleneck training\n",
      "# # # # # # # # # # # # # # # # # # # #\u001b[0;0m\n",
      "Files already downloaded and verified\n",
      "Files already downloaded and verified\n"
     ]
    },
    {
     "name": "stderr",
     "output_type": "stream",
     "text": [
      "Train Epoch: 1 [ 50048/50048 (100%)] H_hx:0.00000042 H_hy:0.00000045: 100%|█████████| 391/391.0 [01:42<00:00,  3.83it/s]\n"
     ]
    },
    {
     "name": "stdout",
     "output_type": "stream",
     "text": [
      "Model files saved in:  X:/Data Files/Huawei/cifar10\\exp_20221102-160343\n",
      "Model report files saved in :  X:/Data Files/Huawei/cifar10\\exp_20221102-160343\\reports\n",
      "Model saved in :  X:/Data Files/Huawei/cifar10\\exp_20221102-160343\\reports\\model\n"
     ]
    },
    {
     "name": "stderr",
     "output_type": "stream",
     "text": [
      "Train Epoch: 2 [ 50048/50048 (100%)] H_hx:0.00000042 H_hy:0.00000045: 100%|█████████| 391/391.0 [01:39<00:00,  3.92it/s]\n"
     ]
    },
    {
     "name": "stdout",
     "output_type": "stream",
     "text": [
      "Model files saved in:  X:/Data Files/Huawei/cifar10\\exp_20221102-160343\n",
      "Model report files saved in :  X:/Data Files/Huawei/cifar10\\exp_20221102-160343\\reports\n",
      "Model saved in :  X:/Data Files/Huawei/cifar10\\exp_20221102-160343\\reports\\model\n"
     ]
    },
    {
     "name": "stderr",
     "output_type": "stream",
     "text": [
      "Train Epoch: 3 [ 50048/50048 (100%)] H_hx:0.00000042 H_hy:0.00000046: 100%|█████████| 391/391.0 [01:39<00:00,  3.92it/s]\n"
     ]
    },
    {
     "name": "stdout",
     "output_type": "stream",
     "text": [
      "Model files saved in:  X:/Data Files/Huawei/cifar10\\exp_20221102-160343\n",
      "Model report files saved in :  X:/Data Files/Huawei/cifar10\\exp_20221102-160343\\reports\n",
      "Model saved in :  X:/Data Files/Huawei/cifar10\\exp_20221102-160343\\reports\\model\n"
     ]
    },
    {
     "name": "stderr",
     "output_type": "stream",
     "text": [
      "Train Epoch: 4 [ 50048/50048 (100%)] H_hx:0.00000042 H_hy:0.00000046: 100%|█████████| 391/391.0 [01:39<00:00,  3.92it/s]\n"
     ]
    },
    {
     "name": "stdout",
     "output_type": "stream",
     "text": [
      "Model files saved in:  X:/Data Files/Huawei/cifar10\\exp_20221102-160343\n",
      "Model report files saved in :  X:/Data Files/Huawei/cifar10\\exp_20221102-160343\\reports\n",
      "Model saved in :  X:/Data Files/Huawei/cifar10\\exp_20221102-160343\\reports\\model\n"
     ]
    },
    {
     "name": "stderr",
     "output_type": "stream",
     "text": [
      "Train Epoch: 5 [ 50048/50048 (100%)] H_hx:0.00000042 H_hy:0.00000045: 100%|█████████| 391/391.0 [01:42<00:00,  3.82it/s]\n"
     ]
    },
    {
     "name": "stdout",
     "output_type": "stream",
     "text": [
      "Model files saved in:  X:/Data Files/Huawei/cifar10\\exp_20221102-160343\n",
      "Model report files saved in :  X:/Data Files/Huawei/cifar10\\exp_20221102-160343\\reports\n",
      "Model saved in :  X:/Data Files/Huawei/cifar10\\exp_20221102-160343\\reports\\model\n"
     ]
    },
    {
     "name": "stderr",
     "output_type": "stream",
     "text": [
      "Train Epoch: 6 [ 50048/50048 (100%)] H_hx:0.00000042 H_hy:0.00000046: 100%|█████████| 391/391.0 [01:45<00:00,  3.72it/s]\n"
     ]
    },
    {
     "name": "stdout",
     "output_type": "stream",
     "text": [
      "Model files saved in:  X:/Data Files/Huawei/cifar10\\exp_20221102-160343\n",
      "Model report files saved in :  X:/Data Files/Huawei/cifar10\\exp_20221102-160343\\reports\n",
      "Model saved in :  X:/Data Files/Huawei/cifar10\\exp_20221102-160343\\reports\\model\n"
     ]
    },
    {
     "name": "stderr",
     "output_type": "stream",
     "text": [
      "Train Epoch: 7 [ 50048/50048 (100%)] H_hx:0.00000042 H_hy:0.00000046: 100%|█████████| 391/391.0 [01:45<00:00,  3.72it/s]\n"
     ]
    },
    {
     "name": "stdout",
     "output_type": "stream",
     "text": [
      "Model files saved in:  X:/Data Files/Huawei/cifar10\\exp_20221102-160343\n",
      "Model report files saved in :  X:/Data Files/Huawei/cifar10\\exp_20221102-160343\\reports\n",
      "Model saved in :  X:/Data Files/Huawei/cifar10\\exp_20221102-160343\\reports\\model\n"
     ]
    },
    {
     "name": "stderr",
     "output_type": "stream",
     "text": [
      "Train Epoch: 8 [ 50048/50048 (100%)] H_hx:0.00000042 H_hy:0.00000046: 100%|█████████| 391/391.0 [01:44<00:00,  3.74it/s]\n"
     ]
    },
    {
     "name": "stdout",
     "output_type": "stream",
     "text": [
      "Model files saved in:  X:/Data Files/Huawei/cifar10\\exp_20221102-160343\n",
      "Model report files saved in :  X:/Data Files/Huawei/cifar10\\exp_20221102-160343\\reports\n",
      "Model saved in :  X:/Data Files/Huawei/cifar10\\exp_20221102-160343\\reports\\model\n"
     ]
    },
    {
     "name": "stderr",
     "output_type": "stream",
     "text": [
      "Train Epoch: 9 [ 50048/50048 (100%)] H_hx:0.00000042 H_hy:0.00000046: 100%|█████████| 391/391.0 [01:44<00:00,  3.75it/s]\n"
     ]
    },
    {
     "name": "stdout",
     "output_type": "stream",
     "text": [
      "Model files saved in:  X:/Data Files/Huawei/cifar10\\exp_20221102-160343\n",
      "Model report files saved in :  X:/Data Files/Huawei/cifar10\\exp_20221102-160343\\reports\n",
      "Model saved in :  X:/Data Files/Huawei/cifar10\\exp_20221102-160343\\reports\\model\n"
     ]
    },
    {
     "name": "stderr",
     "output_type": "stream",
     "text": [
      "Train Epoch: 10 [ 50048/50048 (100%)] H_hx:0.00000042 H_hy:0.00000045: 100%|████████| 391/391.0 [01:43<00:00,  3.76it/s]\n"
     ]
    },
    {
     "name": "stdout",
     "output_type": "stream",
     "text": [
      "Model files saved in:  X:/Data Files/Huawei/cifar10\\exp_20221102-160343\n",
      "Model report files saved in :  X:/Data Files/Huawei/cifar10\\exp_20221102-160343\\reports\n",
      "Model saved in :  X:/Data Files/Huawei/cifar10\\exp_20221102-160343\\reports\\model\n"
     ]
    },
    {
     "name": "stderr",
     "output_type": "stream",
     "text": [
      "Train Epoch: 11 [ 50048/50048 (100%)] H_hx:0.00000043 H_hy:0.00000046: 100%|████████| 391/391.0 [01:43<00:00,  3.76it/s]\n"
     ]
    },
    {
     "name": "stdout",
     "output_type": "stream",
     "text": [
      "Model files saved in:  X:/Data Files/Huawei/cifar10\\exp_20221102-160343\n",
      "Model report files saved in :  X:/Data Files/Huawei/cifar10\\exp_20221102-160343\\reports\n",
      "Model saved in :  X:/Data Files/Huawei/cifar10\\exp_20221102-160343\\reports\\model\n"
     ]
    },
    {
     "name": "stderr",
     "output_type": "stream",
     "text": [
      "Train Epoch: 12 [ 50048/50048 (100%)] H_hx:0.00000042 H_hy:0.00000046: 100%|████████| 391/391.0 [01:43<00:00,  3.76it/s]\n"
     ]
    },
    {
     "name": "stdout",
     "output_type": "stream",
     "text": [
      "Model files saved in:  X:/Data Files/Huawei/cifar10\\exp_20221102-160343\n",
      "Model report files saved in :  X:/Data Files/Huawei/cifar10\\exp_20221102-160343\\reports\n",
      "Model saved in :  X:/Data Files/Huawei/cifar10\\exp_20221102-160343\\reports\\model\n"
     ]
    },
    {
     "name": "stderr",
     "output_type": "stream",
     "text": [
      "Train Epoch: 13 [ 50048/50048 (100%)] H_hx:0.00000043 H_hy:0.00000046: 100%|████████| 391/391.0 [01:43<00:00,  3.76it/s]\n"
     ]
    },
    {
     "name": "stdout",
     "output_type": "stream",
     "text": [
      "Model files saved in:  X:/Data Files/Huawei/cifar10\\exp_20221102-160343\n",
      "Model report files saved in :  X:/Data Files/Huawei/cifar10\\exp_20221102-160343\\reports\n",
      "Model saved in :  X:/Data Files/Huawei/cifar10\\exp_20221102-160343\\reports\\model\n"
     ]
    },
    {
     "name": "stderr",
     "output_type": "stream",
     "text": [
      "Train Epoch: 14 [ 50048/50048 (100%)] H_hx:0.00000042 H_hy:0.00000046: 100%|████████| 391/391.0 [01:43<00:00,  3.76it/s]\n"
     ]
    },
    {
     "name": "stdout",
     "output_type": "stream",
     "text": [
      "Model files saved in:  X:/Data Files/Huawei/cifar10\\exp_20221102-160343\n",
      "Model report files saved in :  X:/Data Files/Huawei/cifar10\\exp_20221102-160343\\reports\n",
      "Model saved in :  X:/Data Files/Huawei/cifar10\\exp_20221102-160343\\reports\\model\n"
     ]
    },
    {
     "name": "stderr",
     "output_type": "stream",
     "text": [
      "Train Epoch: 15 [ 50048/50048 (100%)] H_hx:0.00000043 H_hy:0.00000046: 100%|████████| 391/391.0 [01:43<00:00,  3.76it/s]"
     ]
    },
    {
     "name": "stdout",
     "output_type": "stream",
     "text": [
      "Model files saved in:  X:/Data Files/Huawei/cifar10\\exp_20221102-160343\n",
      "Model report files saved in :  X:/Data Files/Huawei/cifar10\\exp_20221102-160343\\reports\n",
      "Model saved in :  X:/Data Files/Huawei/cifar10\\exp_20221102-160343\\reports\\model\n"
     ]
    },
    {
     "name": "stderr",
     "output_type": "stream",
     "text": [
      "\n"
     ]
    }
   ],
   "source": [
    "batch_log_list, epoch_log_dict = training_hsic(config_dict)"
   ]
  },
  {
   "cell_type": "code",
   "execution_count": 43,
   "metadata": {},
   "outputs": [
    {
     "name": "stdout",
     "output_type": "stream",
     "text": [
      "\u001b[1;37;40m# # # # # # # # # # # # # # # # # # # #\n",
      "#     Format training\n",
      "# # # # # # # # # # # # # # # # # # # #\u001b[0;0m\n",
      "Files already downloaded and verified\n",
      "Files already downloaded and verified\n"
     ]
    },
    {
     "name": "stderr",
     "output_type": "stream",
     "text": [
      "Train Epoch: 1 [ 50048/50048 (100%)] Loss:2.3434 Acc:11.2836 hsic_xz:-1.0000 hsic_yz:-1.0000: 100%|███████████████| 391/391.0 [00:19<00:00, 19.94it/s]\n"
     ]
    },
    {
     "name": "stdout",
     "output_type": "stream",
     "text": [
      "\u001b[1;32;40mEpoch - [0001]: Training Acc: 11.62\u001b[0;0m\n",
      "\u001b[1;32;40mEpoch - [0001]: Testing  Acc: 12.05\u001b[0;0m\n",
      "Model files saved in:  X:/Data Files/Huawei/cifar10\\exp_20221102-224915\n",
      "Model report files saved in :  X:/Data Files/Huawei/cifar10\\exp_20221102-224915\\reports\n",
      "Model saved in :  X:/Data Files/Huawei/cifar10\\exp_20221102-224915\\reports\\model\n"
     ]
    },
    {
     "name": "stderr",
     "output_type": "stream",
     "text": [
      "Train Epoch: 2 [ 50048/50048 (100%)] Loss:2.3166 Acc:11.9817 hsic_xz:-1.0000 hsic_yz:-1.0000: 100%|███████████████| 391/391.0 [00:19<00:00, 19.94it/s]\n"
     ]
    },
    {
     "name": "stdout",
     "output_type": "stream",
     "text": [
      "\u001b[1;32;40mEpoch - [0002]: Training Acc: 12.30\u001b[0;0m\n",
      "\u001b[1;32;40mEpoch - [0002]: Testing  Acc: 12.69\u001b[0;0m\n",
      "Model files saved in:  X:/Data Files/Huawei/cifar10\\exp_20221102-224915\n",
      "Model report files saved in :  X:/Data Files/Huawei/cifar10\\exp_20221102-224915\\reports\n",
      "Model saved in :  X:/Data Files/Huawei/cifar10\\exp_20221102-224915\\reports\\model\n"
     ]
    },
    {
     "name": "stderr",
     "output_type": "stream",
     "text": [
      "Train Epoch: 3 [ 50048/50048 (100%)] Loss:2.3014 Acc:12.5907 hsic_xz:-1.0000 hsic_yz:-1.0000: 100%|███████████████| 391/391.0 [00:19<00:00, 20.10it/s]\n"
     ]
    },
    {
     "name": "stdout",
     "output_type": "stream",
     "text": [
      "\u001b[1;32;40mEpoch - [0003]: Training Acc: 12.86\u001b[0;0m\n",
      "\u001b[1;32;40mEpoch - [0003]: Testing  Acc: 13.27\u001b[0;0m\n",
      "Model files saved in:  X:/Data Files/Huawei/cifar10\\exp_20221102-224915\n",
      "Model report files saved in :  X:/Data Files/Huawei/cifar10\\exp_20221102-224915\\reports\n",
      "Model saved in :  X:/Data Files/Huawei/cifar10\\exp_20221102-224915\\reports\\model\n"
     ]
    },
    {
     "name": "stderr",
     "output_type": "stream",
     "text": [
      "Train Epoch: 4 [ 50048/50048 (100%)] Loss:2.2894 Acc:13.1702 hsic_xz:-1.0000 hsic_yz:-1.0000: 100%|███████████████| 391/391.0 [00:19<00:00, 20.45it/s]\n"
     ]
    },
    {
     "name": "stdout",
     "output_type": "stream",
     "text": [
      "\u001b[1;32;40mEpoch - [0004]: Training Acc: 13.49\u001b[0;0m\n",
      "\u001b[1;32;40mEpoch - [0004]: Testing  Acc: 13.78\u001b[0;0m\n",
      "Model files saved in:  X:/Data Files/Huawei/cifar10\\exp_20221102-224915\n",
      "Model report files saved in :  X:/Data Files/Huawei/cifar10\\exp_20221102-224915\\reports\n",
      "Model saved in :  X:/Data Files/Huawei/cifar10\\exp_20221102-224915\\reports\\model\n"
     ]
    },
    {
     "name": "stderr",
     "output_type": "stream",
     "text": [
      "Train Epoch: 5 [ 50048/50048 (100%)] Loss:2.2787 Acc:13.7904 hsic_xz:-1.0000 hsic_yz:-1.0000: 100%|███████████████| 391/391.0 [00:20<00:00, 19.53it/s]\n"
     ]
    },
    {
     "name": "stdout",
     "output_type": "stream",
     "text": [
      "\u001b[1;32;40mEpoch - [0005]: Training Acc: 14.02\u001b[0;0m\n",
      "\u001b[1;32;40mEpoch - [0005]: Testing  Acc: 14.21\u001b[0;0m\n",
      "Model files saved in:  X:/Data Files/Huawei/cifar10\\exp_20221102-224915\n",
      "Model report files saved in :  X:/Data Files/Huawei/cifar10\\exp_20221102-224915\\reports\n",
      "Model saved in :  X:/Data Files/Huawei/cifar10\\exp_20221102-224915\\reports\\model\n"
     ]
    },
    {
     "name": "stderr",
     "output_type": "stream",
     "text": [
      "Train Epoch: 6 [ 50048/50048 (100%)] Loss:2.2691 Acc:14.2475 hsic_xz:-1.0000 hsic_yz:-1.0000: 100%|███████████████| 391/391.0 [00:19<00:00, 19.95it/s]\n"
     ]
    },
    {
     "name": "stdout",
     "output_type": "stream",
     "text": [
      "\u001b[1;32;40mEpoch - [0006]: Training Acc: 14.47\u001b[0;0m\n",
      "\u001b[1;32;40mEpoch - [0006]: Testing  Acc: 14.71\u001b[0;0m\n",
      "Model files saved in:  X:/Data Files/Huawei/cifar10\\exp_20221102-224915\n",
      "Model report files saved in :  X:/Data Files/Huawei/cifar10\\exp_20221102-224915\\reports\n",
      "Model saved in :  X:/Data Files/Huawei/cifar10\\exp_20221102-224915\\reports\\model\n"
     ]
    },
    {
     "name": "stderr",
     "output_type": "stream",
     "text": [
      "Train Epoch: 7 [ 50048/50048 (100%)] Loss:2.2602 Acc:14.6827 hsic_xz:-1.0000 hsic_yz:-1.0000: 100%|███████████████| 391/391.0 [00:19<00:00, 20.00it/s]\n"
     ]
    },
    {
     "name": "stdout",
     "output_type": "stream",
     "text": [
      "\u001b[1;32;40mEpoch - [0007]: Training Acc: 15.02\u001b[0;0m\n",
      "\u001b[1;32;40mEpoch - [0007]: Testing  Acc: 14.97\u001b[0;0m\n",
      "Model files saved in:  X:/Data Files/Huawei/cifar10\\exp_20221102-224915\n",
      "Model report files saved in :  X:/Data Files/Huawei/cifar10\\exp_20221102-224915\\reports\n",
      "Model saved in :  X:/Data Files/Huawei/cifar10\\exp_20221102-224915\\reports\\model\n"
     ]
    },
    {
     "name": "stderr",
     "output_type": "stream",
     "text": [
      "Train Epoch: 8 [ 50048/50048 (100%)] Loss:2.2520 Acc:15.2094 hsic_xz:-1.0000 hsic_yz:-1.0000: 100%|███████████████| 391/391.0 [00:19<00:00, 19.90it/s]\n"
     ]
    },
    {
     "name": "stdout",
     "output_type": "stream",
     "text": [
      "\u001b[1;32;40mEpoch - [0008]: Training Acc: 15.40\u001b[0;0m\n",
      "\u001b[1;32;40mEpoch - [0008]: Testing  Acc: 15.69\u001b[0;0m\n",
      "Model files saved in:  X:/Data Files/Huawei/cifar10\\exp_20221102-224915\n",
      "Model report files saved in :  X:/Data Files/Huawei/cifar10\\exp_20221102-224915\\reports\n",
      "Model saved in :  X:/Data Files/Huawei/cifar10\\exp_20221102-224915\\reports\\model\n"
     ]
    },
    {
     "name": "stderr",
     "output_type": "stream",
     "text": [
      "Train Epoch: 9 [ 50048/50048 (100%)] Loss:2.2444 Acc:15.6526 hsic_xz:-1.0000 hsic_yz:-1.0000: 100%|███████████████| 391/391.0 [00:19<00:00, 19.90it/s]\n"
     ]
    },
    {
     "name": "stdout",
     "output_type": "stream",
     "text": [
      "\u001b[1;32;40mEpoch - [0009]: Training Acc: 15.86\u001b[0;0m\n",
      "\u001b[1;32;40mEpoch - [0009]: Testing  Acc: 16.18\u001b[0;0m\n",
      "Model files saved in:  X:/Data Files/Huawei/cifar10\\exp_20221102-224915\n",
      "Model report files saved in :  X:/Data Files/Huawei/cifar10\\exp_20221102-224915\\reports\n",
      "Model saved in :  X:/Data Files/Huawei/cifar10\\exp_20221102-224915\\reports\\model\n"
     ]
    },
    {
     "name": "stderr",
     "output_type": "stream",
     "text": [
      "Train Epoch: 10 [ 50048/50048 (100%)] Loss:2.2373 Acc:16.0906 hsic_xz:-1.0000 hsic_yz:-1.0000: 100%|██████████████| 391/391.0 [00:19<00:00, 19.98it/s]\n"
     ]
    },
    {
     "name": "stdout",
     "output_type": "stream",
     "text": [
      "\u001b[1;32;40mEpoch - [0010]: Training Acc: 16.29\u001b[0;0m\n",
      "\u001b[1;32;40mEpoch - [0010]: Testing  Acc: 16.59\u001b[0;0m\n",
      "Model files saved in:  X:/Data Files/Huawei/cifar10\\exp_20221102-224915\n",
      "Model report files saved in :  X:/Data Files/Huawei/cifar10\\exp_20221102-224915\\reports\n",
      "Model saved in :  X:/Data Files/Huawei/cifar10\\exp_20221102-224915\\reports\\model\n"
     ]
    },
    {
     "name": "stderr",
     "output_type": "stream",
     "text": [
      "Train Epoch: 11 [ 50048/50048 (100%)] Loss:2.2307 Acc:16.4654 hsic_xz:-1.0000 hsic_yz:-1.0000: 100%|██████████████| 391/391.0 [00:19<00:00, 19.92it/s]\n"
     ]
    },
    {
     "name": "stdout",
     "output_type": "stream",
     "text": [
      "\u001b[1;32;40mEpoch - [0011]: Training Acc: 16.69\u001b[0;0m\n",
      "\u001b[1;32;40mEpoch - [0011]: Testing  Acc: 16.95\u001b[0;0m\n",
      "Model files saved in:  X:/Data Files/Huawei/cifar10\\exp_20221102-224915\n",
      "Model report files saved in :  X:/Data Files/Huawei/cifar10\\exp_20221102-224915\\reports\n",
      "Model saved in :  X:/Data Files/Huawei/cifar10\\exp_20221102-224915\\reports\\model\n"
     ]
    },
    {
     "name": "stderr",
     "output_type": "stream",
     "text": [
      "Train Epoch: 12 [ 50048/50048 (100%)] Loss:2.2246 Acc:16.8362 hsic_xz:-1.0000 hsic_yz:-1.0000: 100%|██████████████| 391/391.0 [00:19<00:00, 19.98it/s]\n"
     ]
    },
    {
     "name": "stdout",
     "output_type": "stream",
     "text": [
      "\u001b[1;32;40mEpoch - [0012]: Training Acc: 17.04\u001b[0;0m\n",
      "\u001b[1;32;40mEpoch - [0012]: Testing  Acc: 17.28\u001b[0;0m\n",
      "Model files saved in:  X:/Data Files/Huawei/cifar10\\exp_20221102-224915\n",
      "Model report files saved in :  X:/Data Files/Huawei/cifar10\\exp_20221102-224915\\reports\n",
      "Model saved in :  X:/Data Files/Huawei/cifar10\\exp_20221102-224915\\reports\\model\n"
     ]
    },
    {
     "name": "stderr",
     "output_type": "stream",
     "text": [
      "Train Epoch: 13 [ 50048/50048 (100%)] Loss:2.2186 Acc:17.1603 hsic_xz:-1.0000 hsic_yz:-1.0000: 100%|██████████████| 391/391.0 [00:19<00:00, 19.97it/s]\n"
     ]
    },
    {
     "name": "stdout",
     "output_type": "stream",
     "text": [
      "\u001b[1;32;40mEpoch - [0013]: Training Acc: 17.43\u001b[0;0m\n",
      "\u001b[1;32;40mEpoch - [0013]: Testing  Acc: 17.54\u001b[0;0m\n",
      "Model files saved in:  X:/Data Files/Huawei/cifar10\\exp_20221102-224915\n",
      "Model report files saved in :  X:/Data Files/Huawei/cifar10\\exp_20221102-224915\\reports\n",
      "Model saved in :  X:/Data Files/Huawei/cifar10\\exp_20221102-224915\\reports\\model\n"
     ]
    },
    {
     "name": "stderr",
     "output_type": "stream",
     "text": [
      "Train Epoch: 14 [ 50048/50048 (100%)] Loss:2.2131 Acc:17.5743 hsic_xz:-1.0000 hsic_yz:-1.0000: 100%|██████████████| 391/391.0 [00:19<00:00, 19.92it/s]\n"
     ]
    },
    {
     "name": "stdout",
     "output_type": "stream",
     "text": [
      "\u001b[1;32;40mEpoch - [0014]: Training Acc: 17.71\u001b[0;0m\n",
      "\u001b[1;32;40mEpoch - [0014]: Testing  Acc: 17.71\u001b[0;0m\n",
      "Model files saved in:  X:/Data Files/Huawei/cifar10\\exp_20221102-224915\n",
      "Model report files saved in :  X:/Data Files/Huawei/cifar10\\exp_20221102-224915\\reports\n",
      "Model saved in :  X:/Data Files/Huawei/cifar10\\exp_20221102-224915\\reports\\model\n"
     ]
    },
    {
     "name": "stderr",
     "output_type": "stream",
     "text": [
      "Train Epoch: 15 [ 50048/50048 (100%)] Loss:2.2079 Acc:17.8557 hsic_xz:-1.0000 hsic_yz:-1.0000: 100%|██████████████| 391/391.0 [00:19<00:00, 19.94it/s]\n"
     ]
    },
    {
     "name": "stdout",
     "output_type": "stream",
     "text": [
      "\u001b[1;32;40mEpoch - [0015]: Training Acc: 18.00\u001b[0;0m\n",
      "\u001b[1;32;40mEpoch - [0015]: Testing  Acc: 18.02\u001b[0;0m\n",
      "Model files saved in:  X:/Data Files/Huawei/cifar10\\exp_20221102-224915\n",
      "Model report files saved in :  X:/Data Files/Huawei/cifar10\\exp_20221102-224915\\reports\n",
      "Model saved in :  X:/Data Files/Huawei/cifar10\\exp_20221102-224915\\reports\\model\n"
     ]
    },
    {
     "name": "stderr",
     "output_type": "stream",
     "text": [
      "Train Epoch: 16 [ 50048/50048 (100%)] Loss:2.2029 Acc:18.1941 hsic_xz:-1.0000 hsic_yz:-1.0000: 100%|██████████████| 391/391.0 [00:19<00:00, 19.99it/s]\n"
     ]
    },
    {
     "name": "stdout",
     "output_type": "stream",
     "text": [
      "\u001b[1;32;40mEpoch - [0016]: Training Acc: 18.29\u001b[0;0m\n",
      "\u001b[1;32;40mEpoch - [0016]: Testing  Acc: 18.32\u001b[0;0m\n",
      "Model files saved in:  X:/Data Files/Huawei/cifar10\\exp_20221102-224915\n",
      "Model report files saved in :  X:/Data Files/Huawei/cifar10\\exp_20221102-224915\\reports\n",
      "Model saved in :  X:/Data Files/Huawei/cifar10\\exp_20221102-224915\\reports\\model\n"
     ]
    },
    {
     "name": "stderr",
     "output_type": "stream",
     "text": [
      "Train Epoch: 17 [ 50048/50048 (100%)] Loss:2.1982 Acc:18.3903 hsic_xz:-1.0000 hsic_yz:-1.0000: 100%|██████████████| 391/391.0 [00:19<00:00, 19.97it/s]\n"
     ]
    },
    {
     "name": "stdout",
     "output_type": "stream",
     "text": [
      "\u001b[1;32;40mEpoch - [0017]: Training Acc: 18.66\u001b[0;0m\n",
      "\u001b[1;32;40mEpoch - [0017]: Testing  Acc: 18.47\u001b[0;0m\n",
      "Model files saved in:  X:/Data Files/Huawei/cifar10\\exp_20221102-224915\n",
      "Model report files saved in :  X:/Data Files/Huawei/cifar10\\exp_20221102-224915\\reports\n",
      "Model saved in :  X:/Data Files/Huawei/cifar10\\exp_20221102-224915\\reports\\model\n"
     ]
    },
    {
     "name": "stderr",
     "output_type": "stream",
     "text": [
      "Train Epoch: 18 [ 50048/50048 (100%)] Loss:2.1937 Acc:18.7068 hsic_xz:-1.0000 hsic_yz:-1.0000: 100%|██████████████| 391/391.0 [00:19<00:00, 19.96it/s]\n"
     ]
    },
    {
     "name": "stdout",
     "output_type": "stream",
     "text": [
      "\u001b[1;32;40mEpoch - [0018]: Training Acc: 18.85\u001b[0;0m\n",
      "\u001b[1;32;40mEpoch - [0018]: Testing  Acc: 18.74\u001b[0;0m\n",
      "Model files saved in:  X:/Data Files/Huawei/cifar10\\exp_20221102-224915\n",
      "Model report files saved in :  X:/Data Files/Huawei/cifar10\\exp_20221102-224915\\reports\n",
      "Model saved in :  X:/Data Files/Huawei/cifar10\\exp_20221102-224915\\reports\\model\n"
     ]
    },
    {
     "name": "stderr",
     "output_type": "stream",
     "text": [
      "Train Epoch: 19 [ 50048/50048 (100%)] Loss:2.1895 Acc:18.9606 hsic_xz:-1.0000 hsic_yz:-1.0000: 100%|██████████████| 391/391.0 [00:19<00:00, 19.95it/s]\n"
     ]
    },
    {
     "name": "stdout",
     "output_type": "stream",
     "text": [
      "\u001b[1;32;40mEpoch - [0019]: Training Acc: 19.10\u001b[0;0m\n",
      "\u001b[1;32;40mEpoch - [0019]: Testing  Acc: 18.88\u001b[0;0m\n",
      "Model files saved in:  X:/Data Files/Huawei/cifar10\\exp_20221102-224915\n",
      "Model report files saved in :  X:/Data Files/Huawei/cifar10\\exp_20221102-224915\\reports\n",
      "Model saved in :  X:/Data Files/Huawei/cifar10\\exp_20221102-224915\\reports\\model\n"
     ]
    },
    {
     "name": "stderr",
     "output_type": "stream",
     "text": [
      "Train Epoch: 20 [ 50048/50048 (100%)] Loss:2.1855 Acc:19.1964 hsic_xz:-1.0000 hsic_yz:-1.0000: 100%|██████████████| 391/391.0 [00:19<00:00, 19.95it/s]\n"
     ]
    },
    {
     "name": "stdout",
     "output_type": "stream",
     "text": [
      "\u001b[1;32;40mEpoch - [0020]: Training Acc: 19.33\u001b[0;0m\n",
      "\u001b[1;32;40mEpoch - [0020]: Testing  Acc: 19.13\u001b[0;0m\n",
      "Model files saved in:  X:/Data Files/Huawei/cifar10\\exp_20221102-224915\n",
      "Model report files saved in :  X:/Data Files/Huawei/cifar10\\exp_20221102-224915\\reports\n",
      "Model saved in :  X:/Data Files/Huawei/cifar10\\exp_20221102-224915\\reports\\model\n"
     ]
    },
    {
     "name": "stderr",
     "output_type": "stream",
     "text": [
      "Train Epoch: 21 [ 50048/50048 (100%)] Loss:2.1817 Acc:19.4178 hsic_xz:-1.0000 hsic_yz:-1.0000: 100%|██████████████| 391/391.0 [00:19<00:00, 19.98it/s]\n"
     ]
    },
    {
     "name": "stdout",
     "output_type": "stream",
     "text": [
      "\u001b[1;32;40mEpoch - [0021]: Training Acc: 19.55\u001b[0;0m\n",
      "\u001b[1;32;40mEpoch - [0021]: Testing  Acc: 19.36\u001b[0;0m\n",
      "Model files saved in:  X:/Data Files/Huawei/cifar10\\exp_20221102-224915\n",
      "Model report files saved in :  X:/Data Files/Huawei/cifar10\\exp_20221102-224915\\reports\n",
      "Model saved in :  X:/Data Files/Huawei/cifar10\\exp_20221102-224915\\reports\\model\n"
     ]
    },
    {
     "name": "stderr",
     "output_type": "stream",
     "text": [
      "Train Epoch: 22 [ 50048/50048 (100%)] Loss:2.1779 Acc:19.5792 hsic_xz:-1.0000 hsic_yz:-1.0000: 100%|██████████████| 391/391.0 [00:19<00:00, 19.96it/s]\n"
     ]
    },
    {
     "name": "stdout",
     "output_type": "stream",
     "text": [
      "\u001b[1;32;40mEpoch - [0022]: Training Acc: 19.70\u001b[0;0m\n",
      "\u001b[1;32;40mEpoch - [0022]: Testing  Acc: 19.52\u001b[0;0m\n",
      "Model files saved in:  X:/Data Files/Huawei/cifar10\\exp_20221102-224915\n",
      "Model report files saved in :  X:/Data Files/Huawei/cifar10\\exp_20221102-224915\\reports\n",
      "Model saved in :  X:/Data Files/Huawei/cifar10\\exp_20221102-224915\\reports\\model\n"
     ]
    },
    {
     "name": "stderr",
     "output_type": "stream",
     "text": [
      "Train Epoch: 23 [ 50048/50048 (100%)] Loss:2.1744 Acc:19.8206 hsic_xz:-1.0000 hsic_yz:-1.0000: 100%|██████████████| 391/391.0 [00:19<00:00, 19.88it/s]\n"
     ]
    },
    {
     "name": "stdout",
     "output_type": "stream",
     "text": [
      "\u001b[1;32;40mEpoch - [0023]: Training Acc: 19.92\u001b[0;0m\n",
      "\u001b[1;32;40mEpoch - [0023]: Testing  Acc: 19.67\u001b[0;0m\n",
      "Model files saved in:  X:/Data Files/Huawei/cifar10\\exp_20221102-224915\n",
      "Model report files saved in :  X:/Data Files/Huawei/cifar10\\exp_20221102-224915\\reports\n",
      "Model saved in :  X:/Data Files/Huawei/cifar10\\exp_20221102-224915\\reports\\model\n"
     ]
    },
    {
     "name": "stderr",
     "output_type": "stream",
     "text": [
      "Train Epoch: 24 [ 50048/50048 (100%)] Loss:2.1710 Acc:20.0691 hsic_xz:-1.0000 hsic_yz:-1.0000: 100%|██████████████| 391/391.0 [00:19<00:00, 19.99it/s]\n"
     ]
    },
    {
     "name": "stdout",
     "output_type": "stream",
     "text": [
      "\u001b[1;32;40mEpoch - [0024]: Training Acc: 20.14\u001b[0;0m\n",
      "\u001b[1;32;40mEpoch - [0024]: Testing  Acc: 19.77\u001b[0;0m\n",
      "Model files saved in:  X:/Data Files/Huawei/cifar10\\exp_20221102-224915\n",
      "Model report files saved in :  X:/Data Files/Huawei/cifar10\\exp_20221102-224915\\reports\n",
      "Model saved in :  X:/Data Files/Huawei/cifar10\\exp_20221102-224915\\reports\\model\n"
     ]
    },
    {
     "name": "stderr",
     "output_type": "stream",
     "text": [
      "Train Epoch: 25 [ 50048/50048 (100%)] Loss:2.1677 Acc:20.2382 hsic_xz:-1.0000 hsic_yz:-1.0000: 100%|██████████████| 391/391.0 [00:19<00:00, 19.95it/s]\n"
     ]
    },
    {
     "name": "stdout",
     "output_type": "stream",
     "text": [
      "\u001b[1;32;40mEpoch - [0025]: Training Acc: 20.38\u001b[0;0m\n",
      "\u001b[1;32;40mEpoch - [0025]: Testing  Acc: 19.94\u001b[0;0m\n",
      "Model files saved in:  X:/Data Files/Huawei/cifar10\\exp_20221102-224915\n",
      "Model report files saved in :  X:/Data Files/Huawei/cifar10\\exp_20221102-224915\\reports\n",
      "Model saved in :  X:/Data Files/Huawei/cifar10\\exp_20221102-224915\\reports\\model\n"
     ]
    },
    {
     "name": "stderr",
     "output_type": "stream",
     "text": [
      "Train Epoch: 26 [ 50048/50048 (100%)] Loss:2.1646 Acc:20.4755 hsic_xz:-1.0000 hsic_yz:-1.0000: 100%|██████████████| 391/391.0 [00:19<00:00, 19.92it/s]\n"
     ]
    },
    {
     "name": "stdout",
     "output_type": "stream",
     "text": [
      "\u001b[1;32;40mEpoch - [0026]: Training Acc: 20.53\u001b[0;0m\n",
      "\u001b[1;32;40mEpoch - [0026]: Testing  Acc: 20.06\u001b[0;0m\n",
      "Model files saved in:  X:/Data Files/Huawei/cifar10\\exp_20221102-224915\n",
      "Model report files saved in :  X:/Data Files/Huawei/cifar10\\exp_20221102-224915\\reports\n",
      "Model saved in :  X:/Data Files/Huawei/cifar10\\exp_20221102-224915\\reports\\model\n"
     ]
    },
    {
     "name": "stderr",
     "output_type": "stream",
     "text": [
      "Train Epoch: 27 [ 50048/50048 (100%)] Loss:2.1616 Acc:20.5651 hsic_xz:-1.0000 hsic_yz:-1.0000: 100%|██████████████| 391/391.0 [00:19<00:00, 19.97it/s]\n"
     ]
    },
    {
     "name": "stdout",
     "output_type": "stream",
     "text": [
      "\u001b[1;32;40mEpoch - [0027]: Training Acc: 20.73\u001b[0;0m\n",
      "\u001b[1;32;40mEpoch - [0027]: Testing  Acc: 20.03\u001b[0;0m\n",
      "Model files saved in:  X:/Data Files/Huawei/cifar10\\exp_20221102-224915\n",
      "Model report files saved in :  X:/Data Files/Huawei/cifar10\\exp_20221102-224915\\reports\n",
      "Model saved in :  X:/Data Files/Huawei/cifar10\\exp_20221102-224915\\reports\\model\n"
     ]
    },
    {
     "name": "stderr",
     "output_type": "stream",
     "text": [
      "Train Epoch: 28 [ 50048/50048 (100%)] Loss:2.1587 Acc:20.7169 hsic_xz:-1.0000 hsic_yz:-1.0000: 100%|██████████████| 391/391.0 [00:19<00:00, 19.96it/s]\n"
     ]
    },
    {
     "name": "stdout",
     "output_type": "stream",
     "text": [
      "\u001b[1;32;40mEpoch - [0028]: Training Acc: 20.81\u001b[0;0m\n",
      "\u001b[1;32;40mEpoch - [0028]: Testing  Acc: 20.10\u001b[0;0m\n",
      "Model files saved in:  X:/Data Files/Huawei/cifar10\\exp_20221102-224915\n",
      "Model report files saved in :  X:/Data Files/Huawei/cifar10\\exp_20221102-224915\\reports\n",
      "Model saved in :  X:/Data Files/Huawei/cifar10\\exp_20221102-224915\\reports\\model\n"
     ]
    },
    {
     "name": "stderr",
     "output_type": "stream",
     "text": [
      "Train Epoch: 29 [ 50048/50048 (100%)] Loss:2.1560 Acc:20.8112 hsic_xz:-1.0000 hsic_yz:-1.0000: 100%|██████████████| 391/391.0 [00:19<00:00, 19.98it/s]\n"
     ]
    },
    {
     "name": "stdout",
     "output_type": "stream",
     "text": [
      "\u001b[1;32;40mEpoch - [0029]: Training Acc: 20.98\u001b[0;0m\n",
      "\u001b[1;32;40mEpoch - [0029]: Testing  Acc: 20.32\u001b[0;0m\n",
      "Model files saved in:  X:/Data Files/Huawei/cifar10\\exp_20221102-224915\n",
      "Model report files saved in :  X:/Data Files/Huawei/cifar10\\exp_20221102-224915\\reports\n",
      "Model saved in :  X:/Data Files/Huawei/cifar10\\exp_20221102-224915\\reports\\model\n"
     ]
    },
    {
     "name": "stderr",
     "output_type": "stream",
     "text": [
      "Train Epoch: 30 [ 50048/50048 (100%)] Loss:2.1533 Acc:21.0126 hsic_xz:-1.0000 hsic_yz:-1.0000: 100%|██████████████| 391/391.0 [00:19<00:00, 19.95it/s]\n"
     ]
    },
    {
     "name": "stdout",
     "output_type": "stream",
     "text": [
      "\u001b[1;32;40mEpoch - [0030]: Training Acc: 21.09\u001b[0;0m\n",
      "\u001b[1;32;40mEpoch - [0030]: Testing  Acc: 20.42\u001b[0;0m\n",
      "Model files saved in:  X:/Data Files/Huawei/cifar10\\exp_20221102-224915\n",
      "Model report files saved in :  X:/Data Files/Huawei/cifar10\\exp_20221102-224915\\reports\n",
      "Model saved in :  X:/Data Files/Huawei/cifar10\\exp_20221102-224915\\reports\\model\n"
     ]
    },
    {
     "name": "stderr",
     "output_type": "stream",
     "text": [
      "Train Epoch: 31 [ 50048/50048 (100%)] Loss:2.1507 Acc:21.1317 hsic_xz:-1.0000 hsic_yz:-1.0000: 100%|██████████████| 391/391.0 [00:19<00:00, 19.97it/s]\n"
     ]
    },
    {
     "name": "stdout",
     "output_type": "stream",
     "text": [
      "\u001b[1;32;40mEpoch - [0031]: Training Acc: 21.25\u001b[0;0m\n",
      "\u001b[1;32;40mEpoch - [0031]: Testing  Acc: 20.65\u001b[0;0m\n",
      "Model files saved in:  X:/Data Files/Huawei/cifar10\\exp_20221102-224915\n",
      "Model report files saved in :  X:/Data Files/Huawei/cifar10\\exp_20221102-224915\\reports\n",
      "Model saved in :  X:/Data Files/Huawei/cifar10\\exp_20221102-224915\\reports\\model\n"
     ]
    },
    {
     "name": "stderr",
     "output_type": "stream",
     "text": [
      "Train Epoch: 32 [ 50048/50048 (100%)] Loss:2.1483 Acc:21.2772 hsic_xz:-1.0000 hsic_yz:-1.0000: 100%|██████████████| 391/391.0 [00:19<00:00, 19.97it/s]\n"
     ]
    },
    {
     "name": "stdout",
     "output_type": "stream",
     "text": [
      "\u001b[1;32;40mEpoch - [0032]: Training Acc: 21.32\u001b[0;0m\n",
      "\u001b[1;32;40mEpoch - [0032]: Testing  Acc: 20.77\u001b[0;0m\n",
      "Model files saved in:  X:/Data Files/Huawei/cifar10\\exp_20221102-224915\n",
      "Model report files saved in :  X:/Data Files/Huawei/cifar10\\exp_20221102-224915\\reports\n",
      "Model saved in :  X:/Data Files/Huawei/cifar10\\exp_20221102-224915\\reports\\model\n"
     ]
    },
    {
     "name": "stderr",
     "output_type": "stream",
     "text": [
      "Train Epoch: 33 [ 50048/50048 (100%)] Loss:2.1459 Acc:21.3763 hsic_xz:-1.0000 hsic_yz:-1.0000: 100%|██████████████| 391/391.0 [00:19<00:00, 19.99it/s]\n"
     ]
    },
    {
     "name": "stdout",
     "output_type": "stream",
     "text": [
      "\u001b[1;32;40mEpoch - [0033]: Training Acc: 21.46\u001b[0;0m\n",
      "\u001b[1;32;40mEpoch - [0033]: Testing  Acc: 20.84\u001b[0;0m\n",
      "Model files saved in:  X:/Data Files/Huawei/cifar10\\exp_20221102-224915\n",
      "Model report files saved in :  X:/Data Files/Huawei/cifar10\\exp_20221102-224915\\reports\n",
      "Model saved in :  X:/Data Files/Huawei/cifar10\\exp_20221102-224915\\reports\\model\n"
     ]
    },
    {
     "name": "stderr",
     "output_type": "stream",
     "text": [
      "Train Epoch: 34 [ 50048/50048 (100%)] Loss:2.1437 Acc:21.4822 hsic_xz:-1.0000 hsic_yz:-1.0000: 100%|██████████████| 391/391.0 [00:19<00:00, 19.95it/s]\n"
     ]
    },
    {
     "name": "stdout",
     "output_type": "stream",
     "text": [
      "\u001b[1;32;40mEpoch - [0034]: Training Acc: 21.57\u001b[0;0m\n",
      "\u001b[1;32;40mEpoch - [0034]: Testing  Acc: 20.88\u001b[0;0m\n",
      "Model files saved in:  X:/Data Files/Huawei/cifar10\\exp_20221102-224915\n",
      "Model report files saved in :  X:/Data Files/Huawei/cifar10\\exp_20221102-224915\\reports\n",
      "Model saved in :  X:/Data Files/Huawei/cifar10\\exp_20221102-224915\\reports\\model\n"
     ]
    },
    {
     "name": "stderr",
     "output_type": "stream",
     "text": [
      "Train Epoch: 35 [ 50048/50048 (100%)] Loss:2.1414 Acc:21.5833 hsic_xz:-1.0000 hsic_yz:-1.0000: 100%|██████████████| 391/391.0 [00:19<00:00, 19.93it/s]\n"
     ]
    },
    {
     "name": "stdout",
     "output_type": "stream",
     "text": [
      "\u001b[1;32;40mEpoch - [0035]: Training Acc: 21.68\u001b[0;0m\n",
      "\u001b[1;32;40mEpoch - [0035]: Testing  Acc: 21.12\u001b[0;0m\n",
      "Model files saved in:  X:/Data Files/Huawei/cifar10\\exp_20221102-224915\n",
      "Model report files saved in :  X:/Data Files/Huawei/cifar10\\exp_20221102-224915\\reports\n",
      "Model saved in :  X:/Data Files/Huawei/cifar10\\exp_20221102-224915\\reports\\model\n"
     ]
    },
    {
     "name": "stderr",
     "output_type": "stream",
     "text": [
      "Train Epoch: 36 [ 50048/50048 (100%)] Loss:2.1392 Acc:21.7203 hsic_xz:-1.0000 hsic_yz:-1.0000: 100%|██████████████| 391/391.0 [00:19<00:00, 20.00it/s]\n"
     ]
    },
    {
     "name": "stdout",
     "output_type": "stream",
     "text": [
      "\u001b[1;32;40mEpoch - [0036]: Training Acc: 21.84\u001b[0;0m\n",
      "\u001b[1;32;40mEpoch - [0036]: Testing  Acc: 21.28\u001b[0;0m\n",
      "Model files saved in:  X:/Data Files/Huawei/cifar10\\exp_20221102-224915\n",
      "Model report files saved in :  X:/Data Files/Huawei/cifar10\\exp_20221102-224915\\reports\n",
      "Model saved in :  X:/Data Files/Huawei/cifar10\\exp_20221102-224915\\reports\\model\n"
     ]
    },
    {
     "name": "stderr",
     "output_type": "stream",
     "text": [
      "Train Epoch: 37 [ 50048/50048 (100%)] Loss:2.1372 Acc:21.8095 hsic_xz:-1.0000 hsic_yz:-1.0000: 100%|██████████████| 391/391.0 [00:19<00:00, 19.94it/s]\n"
     ]
    },
    {
     "name": "stdout",
     "output_type": "stream",
     "text": [
      "\u001b[1;32;40mEpoch - [0037]: Training Acc: 21.90\u001b[0;0m\n",
      "\u001b[1;32;40mEpoch - [0037]: Testing  Acc: 21.31\u001b[0;0m\n",
      "Model files saved in:  X:/Data Files/Huawei/cifar10\\exp_20221102-224915\n",
      "Model report files saved in :  X:/Data Files/Huawei/cifar10\\exp_20221102-224915\\reports\n",
      "Model saved in :  X:/Data Files/Huawei/cifar10\\exp_20221102-224915\\reports\\model\n"
     ]
    },
    {
     "name": "stderr",
     "output_type": "stream",
     "text": [
      "Train Epoch: 38 [ 50048/50048 (100%)] Loss:2.1353 Acc:21.9238 hsic_xz:-1.0000 hsic_yz:-1.0000: 100%|██████████████| 391/391.0 [00:19<00:00, 19.98it/s]\n"
     ]
    },
    {
     "name": "stdout",
     "output_type": "stream",
     "text": [
      "\u001b[1;32;40mEpoch - [0038]: Training Acc: 22.02\u001b[0;0m\n",
      "\u001b[1;32;40mEpoch - [0038]: Testing  Acc: 21.43\u001b[0;0m\n",
      "Model files saved in:  X:/Data Files/Huawei/cifar10\\exp_20221102-224915\n",
      "Model report files saved in :  X:/Data Files/Huawei/cifar10\\exp_20221102-224915\\reports\n",
      "Model saved in :  X:/Data Files/Huawei/cifar10\\exp_20221102-224915\\reports\\model\n"
     ]
    },
    {
     "name": "stderr",
     "output_type": "stream",
     "text": [
      "Train Epoch: 39 [ 50048/50048 (100%)] Loss:2.1333 Acc:22.0464 hsic_xz:-1.0000 hsic_yz:-1.0000: 100%|██████████████| 391/391.0 [00:19<00:00, 19.96it/s]\n"
     ]
    },
    {
     "name": "stdout",
     "output_type": "stream",
     "text": [
      "\u001b[1;32;40mEpoch - [0039]: Training Acc: 22.10\u001b[0;0m\n",
      "\u001b[1;32;40mEpoch - [0039]: Testing  Acc: 21.49\u001b[0;0m\n",
      "Model files saved in:  X:/Data Files/Huawei/cifar10\\exp_20221102-224915\n",
      "Model report files saved in :  X:/Data Files/Huawei/cifar10\\exp_20221102-224915\\reports\n",
      "Model saved in :  X:/Data Files/Huawei/cifar10\\exp_20221102-224915\\reports\\model\n"
     ]
    },
    {
     "name": "stderr",
     "output_type": "stream",
     "text": [
      "Train Epoch: 40 [ 50048/50048 (100%)] Loss:2.1314 Acc:22.0956 hsic_xz:-1.0000 hsic_yz:-1.0000: 100%|██████████████| 391/391.0 [00:19<00:00, 19.83it/s]\n"
     ]
    },
    {
     "name": "stdout",
     "output_type": "stream",
     "text": [
      "\u001b[1;32;40mEpoch - [0040]: Training Acc: 22.20\u001b[0;0m\n",
      "\u001b[1;32;40mEpoch - [0040]: Testing  Acc: 21.59\u001b[0;0m\n",
      "Model files saved in:  X:/Data Files/Huawei/cifar10\\exp_20221102-224915\n",
      "Model report files saved in :  X:/Data Files/Huawei/cifar10\\exp_20221102-224915\\reports\n",
      "Model saved in :  X:/Data Files/Huawei/cifar10\\exp_20221102-224915\\reports\\model\n"
     ]
    },
    {
     "name": "stderr",
     "output_type": "stream",
     "text": [
      "Train Epoch: 41 [ 50048/50048 (100%)] Loss:2.1297 Acc:22.1995 hsic_xz:-1.0000 hsic_yz:-1.0000: 100%|██████████████| 391/391.0 [00:19<00:00, 19.97it/s]\n"
     ]
    },
    {
     "name": "stdout",
     "output_type": "stream",
     "text": [
      "\u001b[1;32;40mEpoch - [0041]: Training Acc: 22.27\u001b[0;0m\n",
      "\u001b[1;32;40mEpoch - [0041]: Testing  Acc: 21.66\u001b[0;0m\n",
      "Model files saved in:  X:/Data Files/Huawei/cifar10\\exp_20221102-224915\n",
      "Model report files saved in :  X:/Data Files/Huawei/cifar10\\exp_20221102-224915\\reports\n",
      "Model saved in :  X:/Data Files/Huawei/cifar10\\exp_20221102-224915\\reports\\model\n"
     ]
    },
    {
     "name": "stderr",
     "output_type": "stream",
     "text": [
      "Train Epoch: 42 [ 50048/50048 (100%)] Loss:2.1280 Acc:22.2946 hsic_xz:-1.0000 hsic_yz:-1.0000: 100%|██████████████| 391/391.0 [00:19<00:00, 19.94it/s]\n"
     ]
    },
    {
     "name": "stdout",
     "output_type": "stream",
     "text": [
      "\u001b[1;32;40mEpoch - [0042]: Training Acc: 22.34\u001b[0;0m\n",
      "\u001b[1;32;40mEpoch - [0042]: Testing  Acc: 21.76\u001b[0;0m\n",
      "Model files saved in:  X:/Data Files/Huawei/cifar10\\exp_20221102-224915\n",
      "Model report files saved in :  X:/Data Files/Huawei/cifar10\\exp_20221102-224915\\reports\n",
      "Model saved in :  X:/Data Files/Huawei/cifar10\\exp_20221102-224915\\reports\\model\n"
     ]
    },
    {
     "name": "stderr",
     "output_type": "stream",
     "text": [
      "Train Epoch: 43 [ 50048/50048 (100%)] Loss:2.1263 Acc:22.4017 hsic_xz:-1.0000 hsic_yz:-1.0000: 100%|██████████████| 391/391.0 [00:19<00:00, 19.95it/s]\n"
     ]
    },
    {
     "name": "stdout",
     "output_type": "stream",
     "text": [
      "\u001b[1;32;40mEpoch - [0043]: Training Acc: 22.44\u001b[0;0m\n",
      "\u001b[1;32;40mEpoch - [0043]: Testing  Acc: 21.85\u001b[0;0m\n",
      "Model files saved in:  X:/Data Files/Huawei/cifar10\\exp_20221102-224915\n",
      "Model report files saved in :  X:/Data Files/Huawei/cifar10\\exp_20221102-224915\\reports\n",
      "Model saved in :  X:/Data Files/Huawei/cifar10\\exp_20221102-224915\\reports\\model\n"
     ]
    },
    {
     "name": "stderr",
     "output_type": "stream",
     "text": [
      "Train Epoch: 44 [ 50048/50048 (100%)] Loss:2.1246 Acc:22.4872 hsic_xz:-1.0000 hsic_yz:-1.0000: 100%|██████████████| 391/391.0 [00:19<00:00, 19.97it/s]\n"
     ]
    },
    {
     "name": "stdout",
     "output_type": "stream",
     "text": [
      "\u001b[1;32;40mEpoch - [0044]: Training Acc: 22.51\u001b[0;0m\n",
      "\u001b[1;32;40mEpoch - [0044]: Testing  Acc: 21.87\u001b[0;0m\n",
      "Model files saved in:  X:/Data Files/Huawei/cifar10\\exp_20221102-224915\n",
      "Model report files saved in :  X:/Data Files/Huawei/cifar10\\exp_20221102-224915\\reports\n",
      "Model saved in :  X:/Data Files/Huawei/cifar10\\exp_20221102-224915\\reports\\model\n"
     ]
    },
    {
     "name": "stderr",
     "output_type": "stream",
     "text": [
      "Train Epoch: 45 [ 50048/50048 (100%)] Loss:2.1229 Acc:22.5627 hsic_xz:-1.0000 hsic_yz:-1.0000: 100%|██████████████| 391/391.0 [00:19<00:00, 19.95it/s]\n"
     ]
    },
    {
     "name": "stdout",
     "output_type": "stream",
     "text": [
      "\u001b[1;32;40mEpoch - [0045]: Training Acc: 22.56\u001b[0;0m\n",
      "\u001b[1;32;40mEpoch - [0045]: Testing  Acc: 21.88\u001b[0;0m\n",
      "Model files saved in:  X:/Data Files/Huawei/cifar10\\exp_20221102-224915\n",
      "Model report files saved in :  X:/Data Files/Huawei/cifar10\\exp_20221102-224915\\reports\n",
      "Model saved in :  X:/Data Files/Huawei/cifar10\\exp_20221102-224915\\reports\\model\n"
     ]
    },
    {
     "name": "stderr",
     "output_type": "stream",
     "text": [
      "Train Epoch: 46 [ 50048/50048 (100%)] Loss:2.1215 Acc:22.6019 hsic_xz:-1.0000 hsic_yz:-1.0000: 100%|██████████████| 391/391.0 [00:19<00:00, 19.87it/s]\n"
     ]
    },
    {
     "name": "stdout",
     "output_type": "stream",
     "text": [
      "\u001b[1;32;40mEpoch - [0046]: Training Acc: 22.67\u001b[0;0m\n",
      "\u001b[1;32;40mEpoch - [0046]: Testing  Acc: 21.97\u001b[0;0m\n",
      "Model files saved in:  X:/Data Files/Huawei/cifar10\\exp_20221102-224915\n",
      "Model report files saved in :  X:/Data Files/Huawei/cifar10\\exp_20221102-224915\\reports\n",
      "Model saved in :  X:/Data Files/Huawei/cifar10\\exp_20221102-224915\\reports\\model\n"
     ]
    },
    {
     "name": "stderr",
     "output_type": "stream",
     "text": [
      "Train Epoch: 47 [ 50048/50048 (100%)] Loss:2.1201 Acc:22.6790 hsic_xz:-1.0000 hsic_yz:-1.0000: 100%|██████████████| 391/391.0 [00:19<00:00, 19.92it/s]\n"
     ]
    },
    {
     "name": "stdout",
     "output_type": "stream",
     "text": [
      "\u001b[1;32;40mEpoch - [0047]: Training Acc: 22.72\u001b[0;0m\n",
      "\u001b[1;32;40mEpoch - [0047]: Testing  Acc: 21.95\u001b[0;0m\n",
      "Model files saved in:  X:/Data Files/Huawei/cifar10\\exp_20221102-224915\n",
      "Model report files saved in :  X:/Data Files/Huawei/cifar10\\exp_20221102-224915\\reports\n",
      "Model saved in :  X:/Data Files/Huawei/cifar10\\exp_20221102-224915\\reports\\model\n"
     ]
    },
    {
     "name": "stderr",
     "output_type": "stream",
     "text": [
      "Train Epoch: 48 [ 50048/50048 (100%)] Loss:2.1186 Acc:22.7737 hsic_xz:-1.0000 hsic_yz:-1.0000: 100%|██████████████| 391/391.0 [00:19<00:00, 19.89it/s]\n"
     ]
    },
    {
     "name": "stdout",
     "output_type": "stream",
     "text": [
      "\u001b[1;32;40mEpoch - [0048]: Training Acc: 22.77\u001b[0;0m\n",
      "\u001b[1;32;40mEpoch - [0048]: Testing  Acc: 21.99\u001b[0;0m\n",
      "Model files saved in:  X:/Data Files/Huawei/cifar10\\exp_20221102-224915\n",
      "Model report files saved in :  X:/Data Files/Huawei/cifar10\\exp_20221102-224915\\reports\n",
      "Model saved in :  X:/Data Files/Huawei/cifar10\\exp_20221102-224915\\reports\\model\n"
     ]
    },
    {
     "name": "stderr",
     "output_type": "stream",
     "text": [
      "Train Epoch: 49 [ 50048/50048 (100%)] Loss:2.1172 Acc:22.8233 hsic_xz:-1.0000 hsic_yz:-1.0000: 100%|██████████████| 391/391.0 [00:19<00:00, 19.93it/s]\n"
     ]
    },
    {
     "name": "stdout",
     "output_type": "stream",
     "text": [
      "\u001b[1;32;40mEpoch - [0049]: Training Acc: 22.85\u001b[0;0m\n",
      "\u001b[1;32;40mEpoch - [0049]: Testing  Acc: 22.02\u001b[0;0m\n",
      "Model files saved in:  X:/Data Files/Huawei/cifar10\\exp_20221102-224915\n",
      "Model report files saved in :  X:/Data Files/Huawei/cifar10\\exp_20221102-224915\\reports\n",
      "Model saved in :  X:/Data Files/Huawei/cifar10\\exp_20221102-224915\\reports\\model\n"
     ]
    },
    {
     "name": "stderr",
     "output_type": "stream",
     "text": [
      "Train Epoch: 50 [ 50048/50048 (100%)] Loss:2.1158 Acc:22.8788 hsic_xz:-1.0000 hsic_yz:-1.0000: 100%|██████████████| 391/391.0 [00:19<00:00, 19.83it/s]\n"
     ]
    },
    {
     "name": "stdout",
     "output_type": "stream",
     "text": [
      "\u001b[1;32;40mEpoch - [0050]: Training Acc: 22.90\u001b[0;0m\n",
      "\u001b[1;32;40mEpoch - [0050]: Testing  Acc: 22.10\u001b[0;0m\n",
      "Model files saved in:  X:/Data Files/Huawei/cifar10\\exp_20221102-224915\n",
      "Model report files saved in :  X:/Data Files/Huawei/cifar10\\exp_20221102-224915\\reports\n",
      "Model saved in :  X:/Data Files/Huawei/cifar10\\exp_20221102-224915\\reports\\model\n"
     ]
    }
   ],
   "source": [
    "loadPath = r\"X:\\Data Files\\Huawei\\cifar10\\exp_20221102-160343\\reports\\model\\model---0015.pt\"\n",
    "config_dict = {}\n",
    "config_dict['batch_size'] = 128\n",
    "config_dict['learning_rate'] = 0.001\n",
    "config_dict['n_layers'] = 5\n",
    "config_dict['hidden_width'] = 128\n",
    "config_dict['epochs'] = 50\n",
    "\n",
    "config_dict['seed'] = 1234\n",
    "config_dict['device'] = 'cuda'\n",
    "config_dict['atype'] = 'relu'\n",
    "config_dict['data_code'] = 'cifar10'\n",
    "\n",
    "config_dict['lambda_y'] = 100.\n",
    "config_dict['sigma'] = 5.\n",
    "config_dict['task'] = 'hsic-train'\n",
    "config_dict['log_batch_interval'] = 10\n",
    "config_dict['ext'] = 'pdf'\n",
    "\n",
    "batch_log_list, epoch_log_dict = training_format(config_dict, loadPath)\n",
    "\n",
    "# exp_20221102-163322 23 percent"
   ]
  },
  {
   "cell_type": "code",
   "execution_count": null,
   "metadata": {},
   "outputs": [],
   "source": []
  }
 ],
 "metadata": {
  "kernelspec": {
   "display_name": "Python 3.8.0 ('mytorch112')",
   "language": "python",
   "name": "python3"
  },
  "language_info": {
   "codemirror_mode": {
    "name": "ipython",
    "version": 3
   },
   "file_extension": ".py",
   "mimetype": "text/x-python",
   "name": "python",
   "nbconvert_exporter": "python",
   "pygments_lexer": "ipython3",
   "version": "3.8.0"
  },
  "orig_nbformat": 4,
  "vscode": {
   "interpreter": {
    "hash": "840df3acb9dd349666656d740704624be9680c29e8fba9a7b1e52a4e4eaf3e37"
   }
  }
 },
 "nbformat": 4,
 "nbformat_minor": 2
}
