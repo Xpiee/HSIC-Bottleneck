{
 "cells": [
  {
   "cell_type": "code",
   "execution_count": 1,
   "metadata": {},
   "outputs": [],
   "source": [
    "import torch\n",
    "import numpy as np\n",
    "\n"
   ]
  },
  {
   "cell_type": "code",
   "execution_count": null,
   "metadata": {},
   "outputs": [],
   "source": [
    "# Implement Gausian kernel function to calculate K_X and K_y\n",
    "# gausian kernel, k(x, y) ~ exp(-(1/2)*||x - y||^2/sigma**2 )\n",
    "\n",
    "def distmat(X):\n",
    "    \"\"\" distance matrix\n",
    "        Euclidean Distance Matrix (EDM)\n",
    "        D = abs(a^2 + b^2 - 2ab_T)\n",
    "    \"\"\"\n",
    "    r = torch.sum(X*X, 1)\n",
    "    r = r.view([-1, 1])\n",
    "    a = torch.mm(X, torch.transpose(X,0,1))\n",
    "    D = r.expand_as(a) - 2*a +  torch.transpose(r,0,1).expand_as(a)\n",
    "    D = torch.abs(D)\n",
    "\n",
    "    return D\n",
    "\n",
    "def kernelmat(X, sigma):\n",
    "    \"\"\"\n",
    "    Kernel function\n",
    "\n",
    "    m: training batch size\n",
    "    H: centering matrix:: I_m - (1/m)*1_m.1_m\n",
    "    gausian kernel: k(x, y) ~ exp(-(1/2)*||x - y||^2/sigma**2)\n",
    "    \"\"\"\n",
    "    m = int(X.size()[0]) # batch size\n",
    "    H = torch.eye(m) - (1./m) * torch.ones([m,m])\n",
    "\n",
    "    Dxx = distmat(X)\n",
    "\n",
    "    variance = 2.*sigma*sigma*X.size()[1]            \n",
    "    Kx = torch.exp( -Dxx / variance).type(torch.FloatTensor)   # kernel\n",
    "    Kxc = torch.mm(Kx, H) # kernel function centered with H\n",
    "\n",
    "    return Kxc\n",
    "\n",
    "\n",
    "def hsic_base(x, y, sigma=None, use_cuda=True):\n",
    "    \"\"\"\n",
    "    Implement equation 3 in the paper\n",
    "    HSIC: (m - 1)^-2 . trace(Kx H Ky H)\n",
    "    \"\"\"\n",
    "    m = int(x.size()[0]) # batch size\n",
    "\n",
    "    KxH = kernelmat(x, sigma=sigma)\n",
    "    KyH = kernelmat(y, sigma=sigma)\n",
    "\n",
    "    return torch.trace(KxH @ KyH)/(m - 1)**2\n",
    "\n",
    "# taken from HSIC implementation \n",
    "# https://github.com/choasma/HSIC-bottleneck/blob/9f1fe2447592d61c0ba524aad0ff0820ae2ba9cb/source/hsicbt/core/train_misc.py#L26\n",
    "# def hsic_objective(hidden, h_target, h_data, sigma):\n",
    "\n",
    "#     hsic_hy_val = hsic_base( hidden, h_target, sigma=sigma)\n",
    "#     hsic_hx_val = hsic_base( hidden, h_data,   sigma=sigma)\n",
    "\n",
    "#     return hsic_hx_val, hsic_hy_val\n",
    "\n",
    "def hsic_loss_obj(hidden, h_target, h_data, sigma):\n",
    "    \"\"\"\n",
    "    calculate hsic between input (X) and hidden layer weights\n",
    "    calculate hsic between hidden layer weights and target (Y)\n",
    "\n",
    "    return: hx, hy for calculating loss in training pipeline\n",
    "    \"\"\"\n",
    "    hsic_hx = hsic_base(hidden, h_data, sigma=sigma)\n",
    "    hsic_hy = hsic_base(hidden, h_target, sigma=sigma)\n",
    "\n",
    "    return hsic_hx, hsic_hy\n",
    "\n",
    "\n"
   ]
  }
 ],
 "metadata": {
  "kernelspec": {
   "display_name": "Python 3.8.5 ('acii')",
   "language": "python",
   "name": "python3"
  },
  "language_info": {
   "codemirror_mode": {
    "name": "ipython",
    "version": 3
   },
   "file_extension": ".py",
   "mimetype": "text/x-python",
   "name": "python",
   "nbconvert_exporter": "python",
   "pygments_lexer": "ipython3",
   "version": "3.8.5"
  },
  "orig_nbformat": 4,
  "vscode": {
   "interpreter": {
    "hash": "a81570c241a723ffe7e19a7b014b56b8a4aedbc95d5c2f1887147d199b1521a4"
   }
  }
 },
 "nbformat": 4,
 "nbformat_minor": 2
}
